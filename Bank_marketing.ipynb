{
  "nbformat": 4,
  "nbformat_minor": 0,
  "metadata": {
    "colab": {
      "name": "Bank marketing.ipynb",
      "provenance": [],
      "toc_visible": true,
      "authorship_tag": "ABX9TyOGyEmDh2kI1QMMBLP7s/5Y",
      "include_colab_link": true
    },
    "kernelspec": {
      "name": "python3",
      "display_name": "Python 3"
    },
    "language_info": {
      "name": "python"
    },
    "accelerator": "GPU"
  },
  "cells": [
    {
      "cell_type": "markdown",
      "metadata": {
        "id": "view-in-github",
        "colab_type": "text"
      },
      "source": [
        "<a href=\"https://colab.research.google.com/github/rafaelhora/bank_marketing/blob/main/Bank_marketing.ipynb\" target=\"_parent\"><img src=\"https://colab.research.google.com/assets/colab-badge.svg\" alt=\"Open In Colab\"/></a>"
      ]
    },
    {
      "cell_type": "markdown",
      "metadata": {
        "id": "FJKjtgPijnAR"
      },
      "source": [
        "#Predicting the Success of Bank Telemarketing Campaign"
      ]
    },
    {
      "cell_type": "markdown",
      "metadata": {
        "id": "FtdEdAG-jtE_"
      },
      "source": [
        "##About the database"
      ]
    },
    {
      "cell_type": "markdown",
      "metadata": {
        "id": "dL17ISg6jvcP"
      },
      "source": [
        "###Introduction\n",
        "\n",
        "  The data is related with direct marketing campaigns of a Portuguese banking institution. The marketing campaigns were based on phone calls. Often, more than one contact to the same client was required, in order to access if the product (bank term deposit) would be ('yes') or not ('no') subscribed.\n",
        "\n",
        "------\n",
        "\n",
        "###Source \n",
        "[Moro et al., 2014] S. Moro, P. Cortez and P. Rita. A Data-Driven Approach to Predict the Success of Bank Telemarketing. Decision Support Systems, Elsevier, 62:22-31, June 2014\n",
        "\n",
        "https://archive.ics.uci.edu/ml/datasets/Bank+Marketing\n",
        "\n",
        "---\n",
        "\n",
        "###Atributes\n",
        "\n",
        "Input variables:\n",
        "\n",
        "**bank client data:**\n",
        "\n",
        "1 - age (numeric)\n",
        "\n",
        "2 - job : type of job (categorical: 'admin.','blue-collar','entrepreneur','housemaid','management','retired','self-employed','services','student','technician','unemployed','unknown')\n",
        "\n",
        "3 - marital : marital status (categorical: 'divorced','married','single','unknown'; note: 'divorced' means divorced or widowed)\n",
        "\n",
        "4 - education (categorical: 'basic.4y','basic.6y','basic.9y','high.school','illiterate','professional.course','university.degree','unknown')\n",
        "\n",
        "5 - default: has credit in default? (categorical: 'no','yes','unknown')\n",
        "\n",
        "6 - housing: has housing loan? (categorical: 'no','yes','unknown')\n",
        "\n",
        "7 - loan: has personal loan? (categorical: 'no','yes','unknown') related with the last contact of the current campaign:\n",
        "\n",
        "8 - contact: contact communication type (categorical: 'cellular','telephone')\n",
        "\n",
        "9 - month: last contact month of year (categorical: 'jan', 'feb', 'mar', ..., 'nov', 'dec')\n",
        "\n",
        "10 - day_of_week: last contact day of the week (categorical: 'mon','tue','wed','thu','fri')\n",
        "\n",
        "11 - duration: last contact duration, in seconds (numeric). Important note: this attribute highly affects the output target (e.g., if duration=0 then y='no'). Yet, the duration is not known before a call is performed. Also, after the end of the call y is obviously known. Thus, this input should only be included for benchmark purposes and should be discarded if the intention is to have a realistic predictive model.\n",
        "\n",
        "**other attributes:**\n",
        "\n",
        "12 - campaign: number of contacts performed during this campaign and for this client (numeric, includes last contact)\n",
        "\n",
        "13 - pdays: number of days that passed by after the client was last contacted from a previous campaign (numeric; 999 means client was not previously contacted)\n",
        "\n",
        "14 - previous: number of contacts performed before this campaign and for this client (numeric)\n",
        "\n",
        "15 - poutcome: outcome of the previous marketing campaign (categorical: 'failure','nonexistent','success')\n",
        "\n",
        "**social and economic context attributes**\n",
        "\n",
        "16 - emp.var.rate: employment variation rate - quarterly indicator (numeric)\n",
        "\n",
        "17 - cons.price.idx: consumer price index - monthly indicator (numeric)\n",
        "\n",
        "18 - cons.conf.idx: consumer confidence index - monthly indicator (numeric)\n",
        "\n",
        "19 - euribor3m: euribor 3 month rate - daily indicator (numeric)\n",
        "\n",
        "20 - nr.employed: number of employees - quarterly indicator (numeric)\n",
        "\n",
        "**Output variable (desired target):**\n",
        "\n",
        "21 - y - has the client subscribed a term deposit? (binary: 'yes','no')"
      ]
    },
    {
      "cell_type": "markdown",
      "metadata": {
        "id": "AKr0TNIOEbE_"
      },
      "source": [
        "---"
      ]
    },
    {
      "cell_type": "markdown",
      "metadata": {
        "id": "1T_8wRLnp8vv"
      },
      "source": [
        "##Importing libraries and database"
      ]
    },
    {
      "cell_type": "code",
      "metadata": {
        "colab": {
          "base_uri": "https://localhost:8080/",
          "height": 241
        },
        "id": "2lFYb6JdqDuH",
        "outputId": "1557f9f6-9e60-41e4-bbef-6b1720f215bd"
      },
      "source": [
        "#basic libraries\n",
        "import pandas as pd\n",
        "import matplotlib.pyplot as plt\n",
        "import numpy as np\n",
        "import seaborn as sns\n",
        "\n",
        "dataset = pd.read_csv('bank-additional.csv', sep = ';')\n",
        "dataset = dataset.dropna(how = 'any')\n",
        "dataset.head() #checking if import was successful"
      ],
      "execution_count": 2,
      "outputs": [
        {
          "output_type": "execute_result",
          "data": {
            "text/html": [
              "<div>\n",
              "<style scoped>\n",
              "    .dataframe tbody tr th:only-of-type {\n",
              "        vertical-align: middle;\n",
              "    }\n",
              "\n",
              "    .dataframe tbody tr th {\n",
              "        vertical-align: top;\n",
              "    }\n",
              "\n",
              "    .dataframe thead th {\n",
              "        text-align: right;\n",
              "    }\n",
              "</style>\n",
              "<table border=\"1\" class=\"dataframe\">\n",
              "  <thead>\n",
              "    <tr style=\"text-align: right;\">\n",
              "      <th></th>\n",
              "      <th>age</th>\n",
              "      <th>job</th>\n",
              "      <th>marital</th>\n",
              "      <th>education</th>\n",
              "      <th>default</th>\n",
              "      <th>housing</th>\n",
              "      <th>loan</th>\n",
              "      <th>contact</th>\n",
              "      <th>month</th>\n",
              "      <th>day_of_week</th>\n",
              "      <th>duration</th>\n",
              "      <th>campaign</th>\n",
              "      <th>pdays</th>\n",
              "      <th>previous</th>\n",
              "      <th>poutcome</th>\n",
              "      <th>emp.var.rate</th>\n",
              "      <th>cons.price.idx</th>\n",
              "      <th>cons.conf.idx</th>\n",
              "      <th>euribor3m</th>\n",
              "      <th>nr.employed</th>\n",
              "      <th>y</th>\n",
              "    </tr>\n",
              "  </thead>\n",
              "  <tbody>\n",
              "    <tr>\n",
              "      <th>0</th>\n",
              "      <td>30</td>\n",
              "      <td>blue-collar</td>\n",
              "      <td>married</td>\n",
              "      <td>basic.9y</td>\n",
              "      <td>no</td>\n",
              "      <td>yes</td>\n",
              "      <td>no</td>\n",
              "      <td>cellular</td>\n",
              "      <td>may</td>\n",
              "      <td>fri</td>\n",
              "      <td>487</td>\n",
              "      <td>2</td>\n",
              "      <td>999</td>\n",
              "      <td>0</td>\n",
              "      <td>nonexistent</td>\n",
              "      <td>-1.8</td>\n",
              "      <td>92.893</td>\n",
              "      <td>-46.2</td>\n",
              "      <td>1.313</td>\n",
              "      <td>5099.1</td>\n",
              "      <td>no</td>\n",
              "    </tr>\n",
              "    <tr>\n",
              "      <th>1</th>\n",
              "      <td>39</td>\n",
              "      <td>services</td>\n",
              "      <td>single</td>\n",
              "      <td>high.school</td>\n",
              "      <td>no</td>\n",
              "      <td>no</td>\n",
              "      <td>no</td>\n",
              "      <td>telephone</td>\n",
              "      <td>may</td>\n",
              "      <td>fri</td>\n",
              "      <td>346</td>\n",
              "      <td>4</td>\n",
              "      <td>999</td>\n",
              "      <td>0</td>\n",
              "      <td>nonexistent</td>\n",
              "      <td>1.1</td>\n",
              "      <td>93.994</td>\n",
              "      <td>-36.4</td>\n",
              "      <td>4.855</td>\n",
              "      <td>5191.0</td>\n",
              "      <td>no</td>\n",
              "    </tr>\n",
              "    <tr>\n",
              "      <th>2</th>\n",
              "      <td>25</td>\n",
              "      <td>services</td>\n",
              "      <td>married</td>\n",
              "      <td>high.school</td>\n",
              "      <td>no</td>\n",
              "      <td>yes</td>\n",
              "      <td>no</td>\n",
              "      <td>telephone</td>\n",
              "      <td>jun</td>\n",
              "      <td>wed</td>\n",
              "      <td>227</td>\n",
              "      <td>1</td>\n",
              "      <td>999</td>\n",
              "      <td>0</td>\n",
              "      <td>nonexistent</td>\n",
              "      <td>1.4</td>\n",
              "      <td>94.465</td>\n",
              "      <td>-41.8</td>\n",
              "      <td>4.962</td>\n",
              "      <td>5228.1</td>\n",
              "      <td>no</td>\n",
              "    </tr>\n",
              "    <tr>\n",
              "      <th>3</th>\n",
              "      <td>38</td>\n",
              "      <td>services</td>\n",
              "      <td>married</td>\n",
              "      <td>basic.9y</td>\n",
              "      <td>no</td>\n",
              "      <td>unknown</td>\n",
              "      <td>unknown</td>\n",
              "      <td>telephone</td>\n",
              "      <td>jun</td>\n",
              "      <td>fri</td>\n",
              "      <td>17</td>\n",
              "      <td>3</td>\n",
              "      <td>999</td>\n",
              "      <td>0</td>\n",
              "      <td>nonexistent</td>\n",
              "      <td>1.4</td>\n",
              "      <td>94.465</td>\n",
              "      <td>-41.8</td>\n",
              "      <td>4.959</td>\n",
              "      <td>5228.1</td>\n",
              "      <td>no</td>\n",
              "    </tr>\n",
              "    <tr>\n",
              "      <th>4</th>\n",
              "      <td>47</td>\n",
              "      <td>admin.</td>\n",
              "      <td>married</td>\n",
              "      <td>university.degree</td>\n",
              "      <td>no</td>\n",
              "      <td>yes</td>\n",
              "      <td>no</td>\n",
              "      <td>cellular</td>\n",
              "      <td>nov</td>\n",
              "      <td>mon</td>\n",
              "      <td>58</td>\n",
              "      <td>1</td>\n",
              "      <td>999</td>\n",
              "      <td>0</td>\n",
              "      <td>nonexistent</td>\n",
              "      <td>-0.1</td>\n",
              "      <td>93.200</td>\n",
              "      <td>-42.0</td>\n",
              "      <td>4.191</td>\n",
              "      <td>5195.8</td>\n",
              "      <td>no</td>\n",
              "    </tr>\n",
              "  </tbody>\n",
              "</table>\n",
              "</div>"
            ],
            "text/plain": [
              "   age          job  marital  ... euribor3m nr.employed   y\n",
              "0   30  blue-collar  married  ...     1.313      5099.1  no\n",
              "1   39     services   single  ...     4.855      5191.0  no\n",
              "2   25     services  married  ...     4.962      5228.1  no\n",
              "3   38     services  married  ...     4.959      5228.1  no\n",
              "4   47       admin.  married  ...     4.191      5195.8  no\n",
              "\n",
              "[5 rows x 21 columns]"
            ]
          },
          "metadata": {
            "tags": []
          },
          "execution_count": 2
        }
      ]
    },
    {
      "cell_type": "code",
      "metadata": {
        "colab": {
          "base_uri": "https://localhost:8080/"
        },
        "id": "Ux5lkR5r8osq",
        "outputId": "34073f53-fb4e-4a65-df83-32e6f15a1176"
      },
      "source": [
        "dataset.info()"
      ],
      "execution_count": 3,
      "outputs": [
        {
          "output_type": "stream",
          "text": [
            "<class 'pandas.core.frame.DataFrame'>\n",
            "Int64Index: 4119 entries, 0 to 4118\n",
            "Data columns (total 21 columns):\n",
            " #   Column          Non-Null Count  Dtype  \n",
            "---  ------          --------------  -----  \n",
            " 0   age             4119 non-null   int64  \n",
            " 1   job             4119 non-null   object \n",
            " 2   marital         4119 non-null   object \n",
            " 3   education       4119 non-null   object \n",
            " 4   default         4119 non-null   object \n",
            " 5   housing         4119 non-null   object \n",
            " 6   loan            4119 non-null   object \n",
            " 7   contact         4119 non-null   object \n",
            " 8   month           4119 non-null   object \n",
            " 9   day_of_week     4119 non-null   object \n",
            " 10  duration        4119 non-null   int64  \n",
            " 11  campaign        4119 non-null   int64  \n",
            " 12  pdays           4119 non-null   int64  \n",
            " 13  previous        4119 non-null   int64  \n",
            " 14  poutcome        4119 non-null   object \n",
            " 15  emp.var.rate    4119 non-null   float64\n",
            " 16  cons.price.idx  4119 non-null   float64\n",
            " 17  cons.conf.idx   4119 non-null   float64\n",
            " 18  euribor3m       4119 non-null   float64\n",
            " 19  nr.employed     4119 non-null   float64\n",
            " 20  y               4119 non-null   object \n",
            "dtypes: float64(5), int64(5), object(11)\n",
            "memory usage: 708.0+ KB\n"
          ],
          "name": "stdout"
        }
      ]
    },
    {
      "cell_type": "markdown",
      "metadata": {
        "id": "BSNAMVn6FIyM"
      },
      "source": [
        "As it's noted in dataset description, we will be droping the Duration attribute due to heavily affecting the model, but this metric can only be known after the call is made, so for prediction purposes shouldn't be considered. "
      ]
    },
    {
      "cell_type": "code",
      "metadata": {
        "id": "dtJqXhEdFdZZ"
      },
      "source": [
        "dataset.drop(columns = 'duration', inplace = True)"
      ],
      "execution_count": 3,
      "outputs": []
    },
    {
      "cell_type": "markdown",
      "metadata": {
        "id": "iUqn_BwrL7Pc"
      },
      "source": [
        "### Scaling numeric variables"
      ]
    },
    {
      "cell_type": "code",
      "metadata": {
        "id": "WFiqxibsMCts",
        "colab": {
          "base_uri": "https://localhost:8080/"
        },
        "outputId": "467d31a4-99ef-47ad-b0ce-b73374768784"
      },
      "source": [
        "from sklearn.preprocessing import StandardScaler\n",
        "from sklearn.compose import ColumnTransformer\n",
        "\n",
        "ct = ColumnTransformer([('ct', StandardScaler(), ['campaign', 'pdays', 'previous'])], remainder='passthrough')\n",
        "\n",
        "ct.fit_transform(dataset)\n"
      ],
      "execution_count": 4,
      "outputs": [
        {
          "output_type": "execute_result",
          "data": {
            "text/plain": [
              "array([[-0.20922828648908795, 0.20103133533451345, -0.3513559841342726,\n",
              "        ..., 1.3130000000000002, 5099.1, 'no'],\n",
              "       [0.5696341735638297, 0.20103133533451345, -0.3513559841342726,\n",
              "        ..., 4.855, 5191.0, 'no'],\n",
              "       [-0.5986595165155467, 0.20103133533451345, -0.3513559841342726,\n",
              "        ..., 4.962, 5228.1, 'no'],\n",
              "       ...,\n",
              "       [-0.20922828648908795, 0.20103133533451345, 1.4946074069997437,\n",
              "        ..., 1.354, 5099.1, 'no'],\n",
              "       [-0.5986595165155467, 0.20103133533451345, -0.3513559841342726,\n",
              "        ..., 4.966, 5228.1, 'no'],\n",
              "       [-0.5986595165155467, 0.20103133533451345, -0.3513559841342726,\n",
              "        ..., 4.12, 5195.8, 'no']], dtype=object)"
            ]
          },
          "metadata": {
            "tags": []
          },
          "execution_count": 4
        }
      ]
    },
    {
      "cell_type": "markdown",
      "metadata": {
        "id": "xkL2CGgqV7SZ"
      },
      "source": [
        "##Separating Training and Test sets"
      ]
    },
    {
      "cell_type": "code",
      "metadata": {
        "id": "QKJoEw2F29th"
      },
      "source": [
        "#encoding categorical data\n",
        "from sklearn.preprocessing import LabelEncoder\n",
        "dataset_encoded = dataset.copy()\n",
        "dataset_encoded = pd.get_dummies(dataset_encoded, columns=['job', 'marital', 'education', 'default', 'housing', 'loan', 'contact', 'month', 'day_of_week', 'poutcome'])\n",
        "le = LabelEncoder()\n",
        "\n",
        "dataset_encoded['y'] = le.fit_transform(dataset_encoded['y'])\n",
        "col_y = dataset_encoded.pop('y')\n",
        "dataset_encoded['y'] = col_y"
      ],
      "execution_count": 5,
      "outputs": []
    },
    {
      "cell_type": "code",
      "metadata": {
        "id": "hIAwXuuzWA3-"
      },
      "source": [
        "X = dataset_encoded.iloc[:, :-1].values\n",
        "y = dataset_encoded.iloc[:, -1].values\n",
        "\n",
        "from sklearn.model_selection import train_test_split\n",
        "X_train, X_test, y_train, y_test = train_test_split(X, y, test_size = 0.25, random_state = 0)"
      ],
      "execution_count": 6,
      "outputs": []
    },
    {
      "cell_type": "markdown",
      "metadata": {
        "id": "CPAxjq5IEYJ3"
      },
      "source": [
        "---"
      ]
    },
    {
      "cell_type": "markdown",
      "metadata": {
        "id": "rfjc_gMrt_tg"
      },
      "source": [
        "##Vizualizing the data (WIP)\n"
      ]
    },
    {
      "cell_type": "code",
      "metadata": {
        "colab": {
          "base_uri": "https://localhost:8080/",
          "height": 317
        },
        "id": "Q2PVAuOHHFEr",
        "outputId": "f3a9e70a-8165-4618-c5d7-10c620e133ce"
      },
      "source": [
        "dataset.describe()"
      ],
      "execution_count": null,
      "outputs": [
        {
          "output_type": "execute_result",
          "data": {
            "text/html": [
              "<div>\n",
              "<style scoped>\n",
              "    .dataframe tbody tr th:only-of-type {\n",
              "        vertical-align: middle;\n",
              "    }\n",
              "\n",
              "    .dataframe tbody tr th {\n",
              "        vertical-align: top;\n",
              "    }\n",
              "\n",
              "    .dataframe thead th {\n",
              "        text-align: right;\n",
              "    }\n",
              "</style>\n",
              "<table border=\"1\" class=\"dataframe\">\n",
              "  <thead>\n",
              "    <tr style=\"text-align: right;\">\n",
              "      <th></th>\n",
              "      <th>age</th>\n",
              "      <th>campaign</th>\n",
              "      <th>pdays</th>\n",
              "      <th>previous</th>\n",
              "      <th>emp.var.rate</th>\n",
              "      <th>cons.price.idx</th>\n",
              "      <th>cons.conf.idx</th>\n",
              "      <th>euribor3m</th>\n",
              "      <th>nr.employed</th>\n",
              "    </tr>\n",
              "  </thead>\n",
              "  <tbody>\n",
              "    <tr>\n",
              "      <th>count</th>\n",
              "      <td>4119.000000</td>\n",
              "      <td>4119.000000</td>\n",
              "      <td>4119.000000</td>\n",
              "      <td>4119.000000</td>\n",
              "      <td>4119.000000</td>\n",
              "      <td>4119.000000</td>\n",
              "      <td>4119.000000</td>\n",
              "      <td>4119.000000</td>\n",
              "      <td>4119.000000</td>\n",
              "    </tr>\n",
              "    <tr>\n",
              "      <th>mean</th>\n",
              "      <td>40.113620</td>\n",
              "      <td>2.537266</td>\n",
              "      <td>960.422190</td>\n",
              "      <td>0.190337</td>\n",
              "      <td>0.084972</td>\n",
              "      <td>93.579704</td>\n",
              "      <td>-40.499102</td>\n",
              "      <td>3.621356</td>\n",
              "      <td>5166.481695</td>\n",
              "    </tr>\n",
              "    <tr>\n",
              "      <th>std</th>\n",
              "      <td>10.313362</td>\n",
              "      <td>2.568159</td>\n",
              "      <td>191.922786</td>\n",
              "      <td>0.541788</td>\n",
              "      <td>1.563114</td>\n",
              "      <td>0.579349</td>\n",
              "      <td>4.594578</td>\n",
              "      <td>1.733591</td>\n",
              "      <td>73.667904</td>\n",
              "    </tr>\n",
              "    <tr>\n",
              "      <th>min</th>\n",
              "      <td>18.000000</td>\n",
              "      <td>1.000000</td>\n",
              "      <td>0.000000</td>\n",
              "      <td>0.000000</td>\n",
              "      <td>-3.400000</td>\n",
              "      <td>92.201000</td>\n",
              "      <td>-50.800000</td>\n",
              "      <td>0.635000</td>\n",
              "      <td>4963.600000</td>\n",
              "    </tr>\n",
              "    <tr>\n",
              "      <th>25%</th>\n",
              "      <td>32.000000</td>\n",
              "      <td>1.000000</td>\n",
              "      <td>999.000000</td>\n",
              "      <td>0.000000</td>\n",
              "      <td>-1.800000</td>\n",
              "      <td>93.075000</td>\n",
              "      <td>-42.700000</td>\n",
              "      <td>1.334000</td>\n",
              "      <td>5099.100000</td>\n",
              "    </tr>\n",
              "    <tr>\n",
              "      <th>50%</th>\n",
              "      <td>38.000000</td>\n",
              "      <td>2.000000</td>\n",
              "      <td>999.000000</td>\n",
              "      <td>0.000000</td>\n",
              "      <td>1.100000</td>\n",
              "      <td>93.749000</td>\n",
              "      <td>-41.800000</td>\n",
              "      <td>4.857000</td>\n",
              "      <td>5191.000000</td>\n",
              "    </tr>\n",
              "    <tr>\n",
              "      <th>75%</th>\n",
              "      <td>47.000000</td>\n",
              "      <td>3.000000</td>\n",
              "      <td>999.000000</td>\n",
              "      <td>0.000000</td>\n",
              "      <td>1.400000</td>\n",
              "      <td>93.994000</td>\n",
              "      <td>-36.400000</td>\n",
              "      <td>4.961000</td>\n",
              "      <td>5228.100000</td>\n",
              "    </tr>\n",
              "    <tr>\n",
              "      <th>max</th>\n",
              "      <td>88.000000</td>\n",
              "      <td>35.000000</td>\n",
              "      <td>999.000000</td>\n",
              "      <td>6.000000</td>\n",
              "      <td>1.400000</td>\n",
              "      <td>94.767000</td>\n",
              "      <td>-26.900000</td>\n",
              "      <td>5.045000</td>\n",
              "      <td>5228.100000</td>\n",
              "    </tr>\n",
              "  </tbody>\n",
              "</table>\n",
              "</div>"
            ],
            "text/plain": [
              "               age     campaign  ...    euribor3m  nr.employed\n",
              "count  4119.000000  4119.000000  ...  4119.000000  4119.000000\n",
              "mean     40.113620     2.537266  ...     3.621356  5166.481695\n",
              "std      10.313362     2.568159  ...     1.733591    73.667904\n",
              "min      18.000000     1.000000  ...     0.635000  4963.600000\n",
              "25%      32.000000     1.000000  ...     1.334000  5099.100000\n",
              "50%      38.000000     2.000000  ...     4.857000  5191.000000\n",
              "75%      47.000000     3.000000  ...     4.961000  5228.100000\n",
              "max      88.000000    35.000000  ...     5.045000  5228.100000\n",
              "\n",
              "[8 rows x 9 columns]"
            ]
          },
          "metadata": {
            "tags": []
          },
          "execution_count": 7
        }
      ]
    },
    {
      "cell_type": "markdown",
      "metadata": {
        "id": "3HkeaJlDB0D4"
      },
      "source": [
        "###Correlation Matrix"
      ]
    },
    {
      "cell_type": "code",
      "metadata": {
        "id": "TOFc5rYBuDpd",
        "colab": {
          "base_uri": "https://localhost:8080/",
          "height": 346
        },
        "outputId": "f5f599d8-60b9-497b-d3ce-70104157092b"
      },
      "source": [
        "import seaborn as sns\n",
        "\n",
        "corr = dataset.corr()\n",
        "sns.heatmap(corr)"
      ],
      "execution_count": null,
      "outputs": [
        {
          "output_type": "execute_result",
          "data": {
            "text/plain": [
              "<matplotlib.axes._subplots.AxesSubplot at 0x7f218d01f650>"
            ]
          },
          "metadata": {
            "tags": []
          },
          "execution_count": 5
        },
        {
          "output_type": "display_data",
          "data": {
            "image/png": "[encoded data removed]",
            "text/plain": [
              "<Figure size 432x288 with 2 Axes>"
            ]
          },
          "metadata": {
            "tags": [],
            "needs_background": "light"
          }
        }
      ]
    },
    {
      "cell_type": "markdown",
      "metadata": {
        "id": "8uLWldrRB6LR"
      },
      "source": [
        "Trough vizualizing the correlation heat map, you can conclude what is already expected from this type of variables, macroeconomic metris are highly correlated. But we can't extract, for now, no relation with the profile of the customers contacted or probabilty of success. "
      ]
    },
    {
      "cell_type": "code",
      "metadata": {
        "id": "uTYVWrOnHuqO"
      },
      "source": [
        "sns.pairplot(dataset, hue = 'y', corner = True)"
      ],
      "execution_count": null,
      "outputs": []
    },
    {
      "cell_type": "code",
      "metadata": {
        "colab": {
          "base_uri": "https://localhost:8080/",
          "height": 364
        },
        "id": "XspaV2fkNCgS",
        "outputId": "9b934d4b-cb3c-4257-c83f-6f06e13e2d7f"
      },
      "source": [
        "fig, axes = plt.subplots(1, 2, figsize=(20, 7), sharey=False)\n",
        "ax1 = sns.histplot(data = dataset['age'], color = 'purple', ax = axes[0])\n",
        "ax2 = sns.histplot(data = dataset['education'], ax = axes[1])\n",
        "\n",
        "ax2.set_xticklabels(\n",
        "    rotation=45, \n",
        "    horizontalalignment='right',\n",
        "    fontweight='light',\n",
        "    fontsize='x-large',\n",
        "    labels = dataset['education']\n",
        ")\n",
        "\n",
        "ax1.set_xticklabels(\n",
        "    rotation=0, \n",
        "    horizontalalignment='center',\n",
        "    fontweight='light',\n",
        "    fontsize='x-large',\n",
        "    labels = dataset['age'],\n",
        "    minor = False\n",
        ")\n",
        "\n",
        "plt.show()"
      ],
      "execution_count": null,
      "outputs": [
        {
          "output_type": "display_data",
          "data": {
            "image/png": "[encoded data removed]",
            "text/plain": [
              "<Figure size 1440x504 with 2 Axes>"
            ]
          },
          "metadata": {
            "tags": [],
            "needs_background": "light"
          }
        }
      ]
    },
    {
      "cell_type": "markdown",
      "metadata": {
        "id": "5t9SQKCvwy3o"
      },
      "source": [
        "###Checking age distribuition"
      ]
    },
    {
      "cell_type": "markdown",
      "metadata": {
        "id": "FrvmuUvnT7Ve"
      },
      "source": [
        "##Predicting Success of Telemarketing Call"
      ]
    },
    {
      "cell_type": "markdown",
      "metadata": {
        "id": "KfDqWPCQVsky"
      },
      "source": [
        "###Logistic Regression"
      ]
    },
    {
      "cell_type": "code",
      "metadata": {
        "colab": {
          "base_uri": "https://localhost:8080/"
        },
        "id": "ehqEnnELVrTY",
        "outputId": "11cf923a-2a24-4e75-83af-ee354b0302dc"
      },
      "source": [
        "from sklearn.linear_model import LogisticRegression\n",
        "classifier_lr = LogisticRegression(random_state = 0)\n",
        "classifier_lr.fit(X_train, y_train)"
      ],
      "execution_count": null,
      "outputs": [
        {
          "output_type": "stream",
          "text": [
            "/usr/local/lib/python3.7/dist-packages/sklearn/linear_model/_logistic.py:940: ConvergenceWarning: lbfgs failed to converge (status=1):\n",
            "STOP: TOTAL NO. of ITERATIONS REACHED LIMIT.\n",
            "\n",
            "Increase the number of iterations (max_iter) or scale the data as shown in:\n",
            "    https://scikit-learn.org/stable/modules/preprocessing.html\n",
            "Please also refer to the documentation for alternative solver options:\n",
            "    https://scikit-learn.org/stable/modules/linear_model.html#logistic-regression\n",
            "  extra_warning_msg=_LOGISTIC_SOLVER_CONVERGENCE_MSG)\n"
          ],
          "name": "stderr"
        },
        {
          "output_type": "execute_result",
          "data": {
            "text/plain": [
              "LogisticRegression(C=1.0, class_weight=None, dual=False, fit_intercept=True,\n",
              "                   intercept_scaling=1, l1_ratio=None, max_iter=100,\n",
              "                   multi_class='auto', n_jobs=None, penalty='l2',\n",
              "                   random_state=0, solver='lbfgs', tol=0.0001, verbose=0,\n",
              "                   warm_start=False)"
            ]
          },
          "metadata": {
            "tags": []
          },
          "execution_count": 57
        }
      ]
    },
    {
      "cell_type": "code",
      "metadata": {
        "colab": {
          "base_uri": "https://localhost:8080/"
        },
        "id": "CHI4ye2IWyRD",
        "outputId": "7cae7aa5-3166-4b2e-e9f5-46fa5969564c"
      },
      "source": [
        "classifier_lr.predict(X_train)"
      ],
      "execution_count": null,
      "outputs": [
        {
          "output_type": "execute_result",
          "data": {
            "text/plain": [
              "array([0, 0, 0, ..., 0, 0, 0])"
            ]
          },
          "metadata": {
            "tags": []
          },
          "execution_count": 58
        }
      ]
    },
    {
      "cell_type": "code",
      "metadata": {
        "colab": {
          "base_uri": "https://localhost:8080/",
          "height": 300
        },
        "id": "P1I02UX1WROi",
        "outputId": "44c6756d-b29f-446c-a75a-d77657d0c501"
      },
      "source": [
        "# Making the Confusion Matrix\n",
        "from sklearn.metrics import confusion_matrix, accuracy_score\n",
        "cm = confusion_matrix(y_test, y_pred)\n",
        "accuracy_lr = accuracy_score(y_test, y_pred)\n",
        "\n",
        "sns.heatmap(cm, annot=True, xticklabels=['Negative' , 'Positive'], yticklabels=['Negative' , 'Positive'], cmap = 'rocket', vmax = 1000, vmin =0, fmt = 'g')\n",
        "plt.ylabel(\"Label\")\n",
        "plt.xlabel(\"Predicted\")\n",
        "plt.show()\n",
        "\n",
        "print(accuracy_lr)"
      ],
      "execution_count": null,
      "outputs": [
        {
          "output_type": "display_data",
          "data": {
            "image/png": "[encoded data removed]",
            "text/plain": [
              "<Figure size 432x288 with 2 Axes>"
            ]
          },
          "metadata": {
            "tags": [],
            "needs_background": "light"
          }
        },
        {
          "output_type": "stream",
          "text": [
            "0.9009708737864077\n"
          ],
          "name": "stdout"
        }
      ]
    },
    {
      "cell_type": "markdown",
      "metadata": {
        "id": "XpRWis8KXrHw"
      },
      "source": [
        "###KNN"
      ]
    },
    {
      "cell_type": "markdown",
      "metadata": {
        "id": "ZEZEuLMjy5kr"
      },
      "source": [
        "We will use the Elbow Method to determine best number of clusters"
      ]
    },
    {
      "cell_type": "code",
      "metadata": {
        "colab": {
          "base_uri": "https://localhost:8080/",
          "height": 295
        },
        "id": "9j15ZyVKy6RP",
        "outputId": "669c2327-99b6-4b0e-ab4e-584083d9acc0"
      },
      "source": [
        "from sklearn.cluster import KMeans\n",
        "from sklearn import metrics\n",
        "from scipy.spatial.distance import cdist\n",
        "\n",
        "# k means determine k\n",
        "distortions = []\n",
        "K = range(1,10)\n",
        "for k in K:\n",
        "    kmeanModel = KMeans(n_clusters=k).fit(X)\n",
        "    kmeanModel.fit(X)\n",
        "    distortions.append(sum(np.min(cdist(X, kmeanModel.cluster_centers_, 'euclidean'), axis=1)) / X.shape[0])\n",
        "\n",
        "# Plot the elbow\n",
        "plt.plot(K, distortions, 'bx-')\n",
        "plt.xlabel('K')\n",
        "plt.ylabel('Distortion')\n",
        "plt.title('The Elbow Method showing the optimal k')\n",
        "plt.show()"
      ],
      "execution_count": null,
      "outputs": [
        {
          "output_type": "display_data",
          "data": {
            "image/png": "[encoded data removed]",
            "text/plain": [
              "<Figure size 432x288 with 1 Axes>"
            ]
          },
          "metadata": {
            "tags": [],
            "needs_background": "light"
          }
        }
      ]
    },
    {
      "cell_type": "markdown",
      "metadata": {
        "id": "ADfY1xcL0UXJ"
      },
      "source": [
        "We can determine that the optimal number of neighbors is 5. "
      ]
    },
    {
      "cell_type": "code",
      "metadata": {
        "colab": {
          "base_uri": "https://localhost:8080/"
        },
        "id": "zwf9qVM_X2lw",
        "outputId": "60fb2e87-e958-4b36-bf7c-fce1058cddc8"
      },
      "source": [
        "from sklearn.neighbors import KNeighborsClassifier\n",
        "classifier_knn = KNeighborsClassifier(n_neighbors = 5, metric = 'minkowski', p = 2)\n",
        "classifier_knn.fit(X_train, y_train)"
      ],
      "execution_count": null,
      "outputs": [
        {
          "output_type": "execute_result",
          "data": {
            "text/plain": [
              "KNeighborsClassifier(algorithm='auto', leaf_size=30, metric='minkowski',\n",
              "                     metric_params=None, n_jobs=None, n_neighbors=5, p=2,\n",
              "                     weights='uniform')"
            ]
          },
          "metadata": {
            "tags": []
          },
          "execution_count": 61
        }
      ]
    },
    {
      "cell_type": "code",
      "metadata": {
        "id": "lu0Y5Re9ahdn"
      },
      "source": [
        "y_pred = classifier_knn.predict(X_test)"
      ],
      "execution_count": null,
      "outputs": []
    },
    {
      "cell_type": "code",
      "metadata": {
        "colab": {
          "base_uri": "https://localhost:8080/",
          "height": 300
        },
        "id": "58NyTJGOYEHd",
        "outputId": "4d2b6f5d-0f76-4eeb-c1ec-3bd2bc6b54f4"
      },
      "source": [
        "# Making the Confusion Matrix\n",
        "from sklearn.metrics import confusion_matrix, accuracy_score\n",
        "cm = confusion_matrix(y_test, y_pred)\n",
        "sns.heatmap(cm, annot=True, xticklabels=['Negative' , 'Positive'], yticklabels=['Negative' , 'Positive'], cmap = 'rocket', vmax = 1000, vmin =0, fmt = 'g')\n",
        "plt.ylabel(\"Label\")\n",
        "plt.xlabel(\"Predicted\")\n",
        "plt.show()\n",
        "accuracy_knn = accuracy_score(y_test, y_pred)\n",
        "print('Accuracy Score:',accuracy_knn)"
      ],
      "execution_count": null,
      "outputs": [
        {
          "output_type": "display_data",
          "data": {
            "image/png": "[encoded data removed]",
            "text/plain": [
              "<Figure size 432x288 with 2 Axes>"
            ]
          },
          "metadata": {
            "tags": [],
            "needs_background": "light"
          }
        },
        {
          "output_type": "stream",
          "text": [
            "Accuracy Score: 0.8970873786407767\n"
          ],
          "name": "stdout"
        }
      ]
    },
    {
      "cell_type": "markdown",
      "metadata": {
        "id": "E0KIr6d_YNUJ"
      },
      "source": [
        "###SVM "
      ]
    },
    {
      "cell_type": "code",
      "metadata": {
        "colab": {
          "base_uri": "https://localhost:8080/"
        },
        "id": "6ROPMb-nYZr0",
        "outputId": "6bd69c4c-9daf-47d0-f8a3-70d1c08ca585"
      },
      "source": [
        "# Training the Kernel SVM model on the Training set\n",
        "from sklearn.svm import SVC\n",
        "classifier_svm = SVC(kernel = 'poly', random_state = 0, degree=1)\n",
        "classifier_svm.fit(X_train, y_train)"
      ],
      "execution_count": null,
      "outputs": [
        {
          "output_type": "execute_result",
          "data": {
            "text/plain": [
              "SVC(C=1.0, break_ties=False, cache_size=200, class_weight=None, coef0=0.0,\n",
              "    decision_function_shape='ovr', degree=1, gamma='scale', kernel='poly',\n",
              "    max_iter=-1, probability=False, random_state=0, shrinking=True, tol=0.001,\n",
              "    verbose=False)"
            ]
          },
          "metadata": {
            "tags": []
          },
          "execution_count": 28
        }
      ]
    },
    {
      "cell_type": "code",
      "metadata": {
        "id": "IOlWTeS1aQly"
      },
      "source": [
        "y_pred = classifier_svm.predict(X_test)"
      ],
      "execution_count": null,
      "outputs": []
    },
    {
      "cell_type": "code",
      "metadata": {
        "colab": {
          "base_uri": "https://localhost:8080/"
        },
        "id": "NqtNHhXBYdPz",
        "outputId": "6d13d93d-28b5-4648-ad91-206e1b32fdf2"
      },
      "source": [
        "# Making the Confusion Matrix\n",
        "from sklearn.metrics import confusion_matrix, accuracy_score\n",
        "cm = confusion_matrix(y_test, y_pred)\n",
        "sns.heatmap(cm, annot=True, xticklabels=['Negative' , 'Positive'], yticklabels=['Negative' , 'Positive'], cmap = 'rocket', vmax = 1000, vmin =0, fmt = 'g')\n",
        "plt.ylabel(\"Label\")\n",
        "plt.xlabel(\"Predicted\")\n",
        "plt.show()\n",
        "accuracy_svm = accuracy_score(y_test, y_pred)"
      ],
      "execution_count": null,
      "outputs": [
        {
          "output_type": "display_data",
          "data": {
            "image/png": "[encoded data removed]",
            "text/plain": [
              "<Figure size 432x288 with 2 Axes>"
            ]
          },
          "metadata": {
            "tags": [],
            "needs_background": "light"
          }
        }
      ]
    },
    {
      "cell_type": "markdown",
      "metadata": {
        "id": "lBx5RVcsYnR0"
      },
      "source": [
        "###Naive Bayes"
      ]
    },
    {
      "cell_type": "code",
      "metadata": {
        "colab": {
          "base_uri": "https://localhost:8080/"
        },
        "id": "J-AX7nFOYovB",
        "outputId": "c64511c8-158c-442e-e3c9-f0655aac3d2a"
      },
      "source": [
        "# Training the Naive Bayes model on the Training set\n",
        "from sklearn.naive_bayes import GaussianNB\n",
        "classifier_nb = GaussianNB()\n",
        "classifier_nb.fit(X_train, y_train)"
      ],
      "execution_count": null,
      "outputs": [
        {
          "output_type": "execute_result",
          "data": {
            "text/plain": [
              "GaussianNB(priors=None, var_smoothing=1e-09)"
            ]
          },
          "metadata": {
            "tags": []
          },
          "execution_count": 67
        }
      ]
    },
    {
      "cell_type": "code",
      "metadata": {
        "id": "gXwNt7pmZjwh"
      },
      "source": [
        "y_pred = classifier_nb.predict(X_test)"
      ],
      "execution_count": null,
      "outputs": []
    },
    {
      "cell_type": "code",
      "metadata": {
        "colab": {
          "base_uri": "https://localhost:8080/"
        },
        "id": "YU5Bi-f-YsUb",
        "outputId": "d4827953-ba78-46c5-c7da-7ed9eebf59ff"
      },
      "source": [
        "# Making the Confusion Matrix\n",
        "from sklearn.metrics import confusion_matrix, accuracy_score\n",
        "cm = confusion_matrix(y_test, y_pred)\n",
        "sns.heatmap(cm, annot=True, xticklabels=['Negative' , 'Positive'], yticklabels=['Negative' , 'Positive'], cmap = 'rocket', vmax = 1000, vmin =0, fmt = 'g')\n",
        "plt.ylabel(\"Label\")\n",
        "plt.xlabel(\"Predicted\")\n",
        "plt.show()\n",
        "accuracy_nb = accuracy_score(y_test, y_pred)"
      ],
      "execution_count": null,
      "outputs": [
        {
          "output_type": "display_data",
          "data": {
            "image/png": "[encoded data removed]",
            "text/plain": [
              "<Figure size 432x288 with 2 Axes>"
            ]
          },
          "metadata": {
            "tags": [],
            "needs_background": "light"
          }
        }
      ]
    },
    {
      "cell_type": "markdown",
      "metadata": {
        "id": "LSDydFUfY-Tu"
      },
      "source": [
        "###Decision Tree"
      ]
    },
    {
      "cell_type": "code",
      "metadata": {
        "colab": {
          "base_uri": "https://localhost:8080/"
        },
        "id": "AJgucSXeY_y-",
        "outputId": "5da806cc-1f6c-4406-8bff-cabadb31ae0e"
      },
      "source": [
        "# Training the Decision Tree Classification model on the Training set\n",
        "from sklearn.tree import DecisionTreeClassifier\n",
        "classifier_dt = DecisionTreeClassifier(criterion = 'entropy', random_state = 0)\n",
        "classifier_dt.fit(X_train, y_train)"
      ],
      "execution_count": null,
      "outputs": [
        {
          "output_type": "execute_result",
          "data": {
            "text/plain": [
              "DecisionTreeClassifier(ccp_alpha=0.0, class_weight=None, criterion='entropy',\n",
              "                       max_depth=None, max_features=None, max_leaf_nodes=None,\n",
              "                       min_impurity_decrease=0.0, min_impurity_split=None,\n",
              "                       min_samples_leaf=1, min_samples_split=2,\n",
              "                       min_weight_fraction_leaf=0.0, presort='deprecated',\n",
              "                       random_state=0, splitter='best')"
            ]
          },
          "metadata": {
            "tags": []
          },
          "execution_count": 70
        }
      ]
    },
    {
      "cell_type": "code",
      "metadata": {
        "colab": {
          "base_uri": "https://localhost:8080/"
        },
        "id": "Cp5QD9aZZCKG",
        "outputId": "fcb7baed-64af-40ce-a55b-8fba3da57db1"
      },
      "source": [
        "# Making the Confusion Matrix\n",
        "from sklearn.metrics import confusion_matrix, accuracy_score\n",
        "y_pred = classifier_dt.predict(X_test)\n",
        "cm = confusion_matrix(y_test, y_pred)\n",
        "sns.heatmap(cm, annot=True, xticklabels=['Negative' , 'Positive'], yticklabels=['Negative' , 'Positive'], cmap = 'rocket', vmax = 1000, vmin =0, fmt = 'g')\n",
        "plt.ylabel(\"Label\")\n",
        "plt.xlabel(\"Predicted\")\n",
        "plt.show()\n",
        "accuracy_dt = accuracy_score(y_test, y_pred)"
      ],
      "execution_count": null,
      "outputs": [
        {
          "output_type": "display_data",
          "data": {
            "image/png": "[encoded data removed]",
            "text/plain": [
              "<Figure size 432x288 with 2 Axes>"
            ]
          },
          "metadata": {
            "tags": [],
            "needs_background": "light"
          }
        }
      ]
    },
    {
      "cell_type": "markdown",
      "metadata": {
        "id": "Keru56vcVbZy"
      },
      "source": [
        "###Random Forest Classifier"
      ]
    },
    {
      "cell_type": "code",
      "metadata": {
        "id": "5CBA7YYLUG7G",
        "colab": {
          "base_uri": "https://localhost:8080/"
        },
        "outputId": "9e53ca33-2c5f-415d-b854-f160f06d3668"
      },
      "source": [
        "from sklearn.ensemble import RandomForestClassifier\n",
        "\n",
        "classifier_rt = RandomForestClassifier()\n",
        "\n",
        "classifier_rt.fit(X_train, y_train)"
      ],
      "execution_count": 7,
      "outputs": [
        {
          "output_type": "execute_result",
          "data": {
            "text/plain": [
              "RandomForestClassifier(bootstrap=True, ccp_alpha=0.0, class_weight=None,\n",
              "                       criterion='gini', max_depth=None, max_features='auto',\n",
              "                       max_leaf_nodes=None, max_samples=None,\n",
              "                       min_impurity_decrease=0.0, min_impurity_split=None,\n",
              "                       min_samples_leaf=1, min_samples_split=2,\n",
              "                       min_weight_fraction_leaf=0.0, n_estimators=100,\n",
              "                       n_jobs=None, oob_score=False, random_state=None,\n",
              "                       verbose=0, warm_start=False)"
            ]
          },
          "metadata": {
            "tags": []
          },
          "execution_count": 7
        }
      ]
    },
    {
      "cell_type": "code",
      "metadata": {
        "id": "7EWVvOpNPMOI"
      },
      "source": [
        "y_pred = classifier_rt.predict(X_test)"
      ],
      "execution_count": 8,
      "outputs": []
    },
    {
      "cell_type": "code",
      "metadata": {
        "colab": {
          "base_uri": "https://localhost:8080/",
          "height": 283
        },
        "id": "W13HI7cwPa3N",
        "outputId": "3f58cc07-6d51-44a9-c98b-14e3d3ebb842"
      },
      "source": [
        "# Making the Confusion Matrix\n",
        "from sklearn.metrics import confusion_matrix, accuracy_score\n",
        "cm = confusion_matrix(y_test, y_pred)\n",
        "sns.heatmap(cm, annot=True, xticklabels=['Negative' , 'Positive'], yticklabels=['Negative' , 'Positive'], cmap = 'rocket', vmax = 1000, vmin =0, fmt = 'g')\n",
        "plt.ylabel(\"Label\")\n",
        "plt.xlabel(\"Predicted\")\n",
        "plt.show()\n",
        "accuracy_rt = accuracy_score(y_test, y_pred)"
      ],
      "execution_count": 9,
      "outputs": [
        {
          "output_type": "display_data",
          "data": {
            "image/png": "[encoded data removed]",
            "text/plain": [
              "<Figure size 432x288 with 2 Axes>"
            ]
          },
          "metadata": {
            "tags": [],
            "needs_background": "light"
          }
        }
      ]
    },
    {
      "cell_type": "markdown",
      "metadata": {
        "id": "3Y6ZALfybTMo"
      },
      "source": [
        "###Comparing Accuracy Score for each Model"
      ]
    },
    {
      "cell_type": "code",
      "metadata": {
        "colab": {
          "base_uri": "https://localhost:8080/"
        },
        "id": "2dZY1LbnbYlf",
        "outputId": "3119f89d-eff2-4170-ff4e-6fea2601258e"
      },
      "source": [
        "print(\"Accuracy score from all Classifier Models:\", '\\n', 'Logistic Regression: ', str(accuracy_lr), '\\n', 'K-Nearest Neighbors: ', str(accuracy_knn), '\\n', 'Support Vector: ', str(accuracy_svm), '\\n', 'Naive Bayes: ', str(accuracy_nb), '\\n', 'Decision Tree: ', str(accuracy_dt), '\\n', 'Random Tree: ', str(accuracy_rt))"
      ],
      "execution_count": null,
      "outputs": [
        {
          "output_type": "stream",
          "text": [
            "Accuracy score from all Classifier Models: \n",
            " Logistic Regression:  0.9009708737864077 \n",
            " K-Nearest Neighbors:  0.8970873786407767 \n",
            " Support Vector:  0.9009708737864077 \n",
            " Naive Bayes:  0.8388349514563107 \n",
            " Decision Tree:  0.8378640776699029 \n",
            " Random Tree:  0.8941747572815534\n"
          ],
          "name": "stdout"
        }
      ]
    },
    {
      "cell_type": "markdown",
      "metadata": {
        "id": "eO77ykUqETQh"
      },
      "source": [
        "---"
      ]
    },
    {
      "cell_type": "markdown",
      "metadata": {
        "id": "L7skcY43VG5y"
      },
      "source": [
        "##Tuning Hyperparameters with Randomized CV"
      ]
    },
    {
      "cell_type": "markdown",
      "metadata": {
        "id": "Ra28qF4zdGBH"
      },
      "source": [
        "Firstly, we will tune hyperparameters for the support vector model, since is the one which has the best accuracy score. \n",
        "Since I don't understand very much the SVR intuition, this may no be the best way to tune the parameteters, but we will try to get the best results we can anyway, and compare with the results that we had in the previous sections. "
      ]
    },
    {
      "cell_type": "markdown",
      "metadata": {
        "id": "bgiRZP-tdZHV"
      },
      "source": [
        "###Defining Parameter Grid "
      ]
    },
    {
      "cell_type": "code",
      "metadata": {
        "colab": {
          "base_uri": "https://localhost:8080/"
        },
        "id": "8wKmW-oDdgc0",
        "outputId": "18b82899-0f7d-4ec8-fec4-16cb3dd3bf45"
      },
      "source": [
        "#Selecting Kernel types to be tested, we will exclude precomputed kernel due to not being suited for this dataset\n",
        "svm_kernel = ['linear', 'poly', 'rbf', 'sigmoid']\n",
        "#Range for degree of polinomial kernel, will be ignored if other kernel is selected\n",
        "svm_poly_degree = [int(x) for x in np.linspace(start = 1, stop = 15, num = 1)]\n",
        "#Gamma is the coefficient for RBF Kernel\n",
        "svm_rbf_gamma = ['scale', 'auto']\n",
        "#coef0 range which are float and 0.0 by default. It is the independent term for the poly and sigmoid kernels\n",
        "svm_coef0 = np.arange( 0.0, 10.0+0.0, 0.1 ).tolist()\n",
        "#Use or not shrinking heuristic\n",
        "svm_shrinking = [True, False]\n",
        "#Setting C range\n",
        "svm_c = [1,10,100,1000]\n",
        "#Class range affects the way C changes the weight of parameters\n",
        "svm_class_weight = ['dict', 'balanced']\n",
        "\n",
        "#Creating random grid\n",
        "random_grid = {'kernel':svm_kernel,\n",
        "               'degree':svm_poly_degree,\n",
        "               'gamma': svm_rbf_gamma,\n",
        "               'coef0':svm_coef0,\n",
        "               'shrinking':svm_shrinking,\n",
        "               'C':svm_c,\n",
        "               'class_weight':svm_class_weight}\n",
        "\n",
        "print(random_grid)"
      ],
      "execution_count": null,
      "outputs": [
        {
          "output_type": "stream",
          "text": [
            "{'kernel': ['linear', 'poly', 'rbf', 'sigmoid'], 'degree': [1], 'gamma': ['scale', 'auto'], 'coef0': [0.0, 0.1, 0.2, 0.30000000000000004, 0.4, 0.5, 0.6000000000000001, 0.7000000000000001, 0.8, 0.9, 1.0, 1.1, 1.2000000000000002, 1.3, 1.4000000000000001, 1.5, 1.6, 1.7000000000000002, 1.8, 1.9000000000000001, 2.0, 2.1, 2.2, 2.3000000000000003, 2.4000000000000004, 2.5, 2.6, 2.7, 2.8000000000000003, 2.9000000000000004, 3.0, 3.1, 3.2, 3.3000000000000003, 3.4000000000000004, 3.5, 3.6, 3.7, 3.8000000000000003, 3.9000000000000004, 4.0, 4.1000000000000005, 4.2, 4.3, 4.4, 4.5, 4.6000000000000005, 4.7, 4.800000000000001, 4.9, 5.0, 5.1000000000000005, 5.2, 5.300000000000001, 5.4, 5.5, 5.6000000000000005, 5.7, 5.800000000000001, 5.9, 6.0, 6.1000000000000005, 6.2, 6.300000000000001, 6.4, 6.5, 6.6000000000000005, 6.7, 6.800000000000001, 6.9, 7.0, 7.1000000000000005, 7.2, 7.300000000000001, 7.4, 7.5, 7.6000000000000005, 7.7, 7.800000000000001, 7.9, 8.0, 8.1, 8.200000000000001, 8.3, 8.4, 8.5, 8.6, 8.700000000000001, 8.8, 8.9, 9.0, 9.1, 9.200000000000001, 9.3, 9.4, 9.5, 9.600000000000001, 9.700000000000001, 9.8, 9.9], 'shrinking': [True, False], 'C': [1, 10, 100, 1000], 'class_weight': ['dict', 'balanced']}\n"
          ],
          "name": "stdout"
        }
      ]
    },
    {
      "cell_type": "markdown",
      "metadata": {
        "id": "ExebaWjNnArH"
      },
      "source": [
        "###Finding the best parameters with Randomized Search"
      ]
    },
    {
      "cell_type": "code",
      "metadata": {
        "id": "r_lZU61tVLdq"
      },
      "source": [
        "from sklearn.model_selection import RandomizedSearchCV\n",
        "#Creating classifier\n",
        "svm = SVC()\n",
        "#We will do a 3 fold validation, with trough 100 iterations and using all available cores. More than these paremeters we are in risk of overfitting the model\n",
        "svm_random_search = RandomizedSearchCV(estimator = svm, param_distributions = random_grid, n_iter = 100, cv = 3, verbose=2, random_state=42, n_jobs = -1) #random state is set so this can be reproduced"
      ],
      "execution_count": null,
      "outputs": []
    },
    {
      "cell_type": "code",
      "metadata": {
        "colab": {
          "base_uri": "https://localhost:8080/"
        },
        "id": "IMf0rSCadUe2",
        "outputId": "ce061a30-e219-4d1d-cdef-acd5298fb1b5"
      },
      "source": [
        "# Fit the random search model\n",
        "svm_random_search.fit(X, y)"
      ],
      "execution_count": null,
      "outputs": [
        {
          "output_type": "stream",
          "text": [
            "Fitting 3 folds for each of 100 candidates, totalling 300 fits\n"
          ],
          "name": "stdout"
        },
        {
          "output_type": "stream",
          "text": [
            "[Parallel(n_jobs=-1)]: Using backend LokyBackend with 2 concurrent workers.\n",
            "[Parallel(n_jobs=-1)]: Done  37 tasks      | elapsed:   29.3s\n",
            "[Parallel(n_jobs=-1)]: Done 158 tasks      | elapsed:  1.8min\n",
            "[Parallel(n_jobs=-1)]: Done 300 out of 300 | elapsed:  3.1min finished\n"
          ],
          "name": "stderr"
        },
        {
          "output_type": "execute_result",
          "data": {
            "text/plain": [
              "RandomizedSearchCV(cv=3, error_score=nan,\n",
              "                   estimator=SVC(C=1.0, break_ties=False, cache_size=200,\n",
              "                                 class_weight=None, coef0=0.0,\n",
              "                                 decision_function_shape='ovr', degree=3,\n",
              "                                 gamma='scale', kernel='rbf', max_iter=-1,\n",
              "                                 probability=False, random_state=None,\n",
              "                                 shrinking=True, tol=0.001, verbose=False),\n",
              "                   iid='deprecated', n_iter=100, n_jobs=-1,\n",
              "                   param_distributions={'C': [1, 10, 100, 100...\n",
              "                                                  1.6, 1.7000000000000002, 1.8,\n",
              "                                                  1.9000000000000001, 2.0, 2.1,\n",
              "                                                  2.2, 2.3000000000000003,\n",
              "                                                  2.4000000000000004, 2.5, 2.6,\n",
              "                                                  2.7, 2.8000000000000003,\n",
              "                                                  2.9000000000000004, ...],\n",
              "                                        'degree': [1],\n",
              "                                        'gamma': ['scale', 'auto'],\n",
              "                                        'kernel': ['linear', 'poly', 'rbf',\n",
              "                                                   'sigmoid'],\n",
              "                                        'shrinking': [True, False]},\n",
              "                   pre_dispatch='2*n_jobs', random_state=42, refit=True,\n",
              "                   return_train_score=False, scoring=None, verbose=2)"
            ]
          },
          "metadata": {
            "tags": []
          },
          "execution_count": 36
        }
      ]
    },
    {
      "cell_type": "code",
      "metadata": {
        "colab": {
          "base_uri": "https://localhost:8080/"
        },
        "id": "0E7ErN9Km-mh",
        "outputId": "7ce1c6fd-aa68-4ebc-e560-b154f344792d"
      },
      "source": [
        "#Print the best parameters found by the randomized search\n",
        "print(svm_random_search.best_params_)"
      ],
      "execution_count": null,
      "outputs": [
        {
          "output_type": "stream",
          "text": [
            "{'shrinking': False, 'kernel': 'sigmoid', 'gamma': 'scale', 'degree': 1, 'coef0': 1.2000000000000002, 'class_weight': 'balanced', 'C': 10}\n"
          ],
          "name": "stdout"
        }
      ]
    },
    {
      "cell_type": "markdown",
      "metadata": {
        "id": "2MC8IMyQqF4-"
      },
      "source": [
        "###Evaluating performance of Random Search"
      ]
    },
    {
      "cell_type": "markdown",
      "metadata": {
        "id": "DiA1Qd22qIvF"
      },
      "source": [
        "Let's evaluate if using random search, we achieved a significant improvement on our study. "
      ]
    },
    {
      "cell_type": "code",
      "metadata": {
        "colab": {
          "base_uri": "https://localhost:8080/"
        },
        "id": "ehRwZrzqqQvF",
        "outputId": "f5981ddc-b366-4985-ea9c-dbb575fb9da8"
      },
      "source": [
        "#Credit to this part of the code goes to Will Koehrsen wjk68[at]case[dot]edu\n",
        "\n",
        "def evaluate(model, test_features, test_labels):\n",
        "    predictions = model.predict(test_features)\n",
        "    errors = abs(predictions - test_labels)\n",
        "    print(errors)\n",
        "    mape = 100 * np.mean(errors / test_labels)\n",
        "    print(mape)\n",
        "    accuracy = 100 - mape\n",
        "    \n",
        "    print('Model Performance')\n",
        "    print('Average Error: {:0.4f} degrees.'.format(np.mean(errors)))\n",
        "    print('Accuracy = {:0.2f}%. \\n'.format(accuracy))\n",
        "    \n",
        "    return accuracy\n",
        "\n",
        "base_model = RandomForestClassifier(n_estimators = 100, random_state = 42)\n",
        "base_model.fit(X_train, y_train)\n",
        "base_accuracy = evaluate(base_model, X_test, y_test)\n",
        "\n",
        "\n",
        "best_random = svm_random_search.best_estimator_\n",
        "random_accuracy = evaluate(best_random, X_test, y_test)\n",
        "\n",
        "print('Improvement of {:0.2f}%.'.format( 100 * (random_accuracy - base_accuracy) / base_accuracy))\n"
      ],
      "execution_count": null,
      "outputs": [
        {
          "output_type": "stream",
          "text": [
            "[0 0 0 ... 0 0 1]\n",
            "nan\n",
            "Model Performance\n",
            "Average Error: 0.1068 degrees.\n",
            "Accuracy = nan%. \n",
            "\n"
          ],
          "name": "stdout"
        },
        {
          "output_type": "stream",
          "text": [
            "/usr/local/lib/python3.7/dist-packages/ipykernel_launcher.py:7: RuntimeWarning: divide by zero encountered in true_divide\n",
            "  import sys\n",
            "/usr/local/lib/python3.7/dist-packages/ipykernel_launcher.py:7: RuntimeWarning: invalid value encountered in true_divide\n",
            "  import sys\n"
          ],
          "name": "stderr"
        },
        {
          "output_type": "stream",
          "text": [
            "[0 0 0 ... 0 0 1]\n",
            "nan\n",
            "Model Performance\n",
            "Average Error: 0.0990 degrees.\n",
            "Accuracy = nan%. \n",
            "\n",
            "Improvement of nan%.\n"
          ],
          "name": "stdout"
        },
        {
          "output_type": "stream",
          "text": [
            "/usr/local/lib/python3.7/dist-packages/ipykernel_launcher.py:7: RuntimeWarning: divide by zero encountered in true_divide\n",
            "  import sys\n",
            "/usr/local/lib/python3.7/dist-packages/ipykernel_launcher.py:7: RuntimeWarning: invalid value encountered in true_divide\n",
            "  import sys\n"
          ],
          "name": "stderr"
        }
      ]
    },
    {
      "cell_type": "markdown",
      "metadata": {
        "id": "KU-nrriFjOjT"
      },
      "source": [
        "###Predicting outcome with best parameters for our model"
      ]
    },
    {
      "cell_type": "code",
      "metadata": {
        "id": "Zxbxk4lavA-d"
      },
      "source": [
        "best_classifier = SVC(**svm_random_search.best_params_)\n",
        "best_classifier.fit(X_train, y_train)\n",
        "ypred = best_classifier.predict(X_test)"
      ],
      "execution_count": null,
      "outputs": []
    },
    {
      "cell_type": "code",
      "metadata": {
        "colab": {
          "base_uri": "https://localhost:8080/",
          "height": 300
        },
        "id": "JcfYR_-buVaS",
        "outputId": "d67c01d6-fe7c-4296-8278-28f26d66c84a"
      },
      "source": [
        "# Making the Confusion Matrix\n",
        "from sklearn.metrics import confusion_matrix, accuracy_score\n",
        "cm = confusion_matrix(y_test, y_pred)\n",
        "sns.heatmap(cm, annot=True, xticklabels=['Negative' , 'Positive'], yticklabels=['Negative' , 'Positive'], cmap = 'rocket', vmax = 1000, vmin =0, fmt = 'g')\n",
        "plt.ylabel(\"Label\")\n",
        "plt.xlabel(\"Predicted\")\n",
        "plt.show()\n",
        "accuracy_svm_random = accuracy_score(y_test, y_pred)\n",
        "\n",
        "print(accuracy_svm_random)"
      ],
      "execution_count": null,
      "outputs": [
        {
          "output_type": "display_data",
          "data": {
            "image/png": "[encoded data removed]",
            "text/plain": [
              "<Figure size 432x288 with 2 Axes>"
            ]
          },
          "metadata": {
            "tags": [],
            "needs_background": "light"
          }
        },
        {
          "output_type": "stream",
          "text": [
            "0.8941747572815534\n"
          ],
          "name": "stdout"
        }
      ]
    },
    {
      "cell_type": "markdown",
      "metadata": {
        "id": "9q_6uPPui6xY"
      },
      "source": [
        "In an ununsual outcome, we seen to not have improved or model of SVR Classifier with Randomized Search. With this in mind, let's test this approach with another model. "
      ]
    },
    {
      "cell_type": "markdown",
      "metadata": {
        "id": "S9i-fkXOjcMx"
      },
      "source": [
        "##Testing Randomized Search with Random Forest model"
      ]
    },
    {
      "cell_type": "markdown",
      "metadata": {
        "id": "nyMAoIxxkJ-9"
      },
      "source": [
        "###Defining parameter grid"
      ]
    },
    {
      "cell_type": "code",
      "metadata": {
        "colab": {
          "base_uri": "https://localhost:8080/"
        },
        "id": "mG18csimkHrl",
        "outputId": "e64146cc-eb29-46c1-b88a-83b70b9d172b"
      },
      "source": [
        "#Defining some number of samples to be tested, after the best parameters are defined, we can refine this variable to achive more optimized results\n",
        "rt_n_estimators = [10, 100, 500, 1000, 1500]\n",
        "#This variables changes the way our model will evaluate a quality of each split, there are two methods: gini and entropy. More details on each method in sklearn docs.\n",
        "rt_criterion = ['gini', 'entropy']\n",
        "#Now we determine the range values for the minimum number of samples required to split a node\n",
        "rt_min_samples_split = [2, 5, 7, 9]\n",
        "#Range of values that will be the requirement for a node be considered a leaf node. Has the effect of smoothing the model.\n",
        "rt_min_samples_leaf = [1, 2, 4, 6]\n",
        "#Range for the number of features to evaluate which is the best split. For the details on each method, check sklearn docs. \n",
        "rt_max_features = ['auto', 'sqrt', 'log2', None]\n",
        "#wheter bootstrap samples are used or not\n",
        "rt_bootstrap = [True, False]\n",
        "#if bootstrap = True, decide if wheter or not use out-of-bag samples to calculate the generalization score\n",
        "rt_oob_score = [True, False]\n",
        "#experimenting with this parameter\n",
        "rt_max_samples = [None,0.5, 2, 4]\n",
        "\n",
        "#Creating random grid\n",
        "\n",
        "random_grid = {\n",
        "    'n_estimators': rt_n_estimators,\n",
        "    'criterion': rt_criterion,\n",
        "    'min_samples_split': rt_min_samples_split,\n",
        "    'min_samples_leaf': rt_min_samples_leaf,\n",
        "    'max_features': rt_max_features,\n",
        "    'bootstrap': rt_bootstrap,\n",
        "    'oob_score': rt_oob_score,\n",
        "    'max_samples': rt_max_samples\n",
        "}\n",
        "\n",
        "print(random_grid)"
      ],
      "execution_count": 16,
      "outputs": [
        {
          "output_type": "stream",
          "text": [
            "{'n_estimators': [10, 100, 500, 1000, 1500], 'criterion': ['gini', 'entropy'], 'min_samples_split': [2, 5, 7, 9], 'min_samples_leaf': [1, 2, 4, 6], 'max_features': ['auto', 'sqrt', 'log2', None], 'bootstrap': [True, False], 'oob_score': [True, False], 'max_samples': [None, 0.5, 2, 4]}\n"
          ],
          "name": "stdout"
        }
      ]
    },
    {
      "cell_type": "markdown",
      "metadata": {
        "id": "t9nhER8dpyks"
      },
      "source": [
        "###Finding the best parameters with Randomized Search"
      ]
    },
    {
      "cell_type": "code",
      "metadata": {
        "id": "YvfmJm8ZpwUj"
      },
      "source": [
        "from sklearn.model_selection import RandomizedSearchCV\n",
        "#Creating classifier\n",
        "rt = RandomForestClassifier(n_jobs = -1)\n",
        "#We will do a 3 fold validation, with trough 100 iterations and using all available cores. More than these paremeters we are in risk of overfitting the model\n",
        "rt_random_search = RandomizedSearchCV(estimator = rt, param_distributions = random_grid, n_iter = 100, cv = 3, verbose=2, n_jobs = -1)"
      ],
      "execution_count": 17,
      "outputs": []
    },
    {
      "cell_type": "code",
      "metadata": {
        "colab": {
          "base_uri": "https://localhost:8080/"
        },
        "id": "r3TYew3lqm6A",
        "outputId": "0d45effb-f42e-4c4d-e6ff-fa8d3a77eeaf"
      },
      "source": [
        "#searching for the best parameters\n",
        "\n",
        "rt_random_search.fit(X, y)"
      ],
      "execution_count": 18,
      "outputs": [
        {
          "output_type": "stream",
          "text": [
            "Fitting 3 folds for each of 100 candidates, totalling 300 fits\n"
          ],
          "name": "stdout"
        },
        {
          "output_type": "stream",
          "text": [
            "[Parallel(n_jobs=-1)]: Using backend LokyBackend with 2 concurrent workers.\n",
            "[Parallel(n_jobs=-1)]: Done  37 tasks      | elapsed:   46.7s\n",
            "[Parallel(n_jobs=-1)]: Done 158 tasks      | elapsed:  4.5min\n",
            "[Parallel(n_jobs=-1)]: Done 300 out of 300 | elapsed:  7.1min finished\n"
          ],
          "name": "stderr"
        },
        {
          "output_type": "execute_result",
          "data": {
            "text/plain": [
              "RandomizedSearchCV(cv=3, error_score=nan,\n",
              "                   estimator=RandomForestClassifier(bootstrap=True,\n",
              "                                                    ccp_alpha=0.0,\n",
              "                                                    class_weight=None,\n",
              "                                                    criterion='gini',\n",
              "                                                    max_depth=None,\n",
              "                                                    max_features='auto',\n",
              "                                                    max_leaf_nodes=None,\n",
              "                                                    max_samples=None,\n",
              "                                                    min_impurity_decrease=0.0,\n",
              "                                                    min_impurity_split=None,\n",
              "                                                    min_samples_leaf=1,\n",
              "                                                    min_samples_split=2,\n",
              "                                                    min_weight_fraction_leaf=0.0,\n",
              "                                                    n_estimators=100, n_jobs...\n",
              "                   param_distributions={'bootstrap': [True, False],\n",
              "                                        'criterion': ['gini', 'entropy'],\n",
              "                                        'max_features': ['auto', 'sqrt', 'log2',\n",
              "                                                         None],\n",
              "                                        'max_samples': [None, 0.5, 2, 4],\n",
              "                                        'min_samples_leaf': [1, 2, 4, 6],\n",
              "                                        'min_samples_split': [2, 5, 7, 9],\n",
              "                                        'n_estimators': [10, 100, 500, 1000,\n",
              "                                                         1500],\n",
              "                                        'oob_score': [True, False]},\n",
              "                   pre_dispatch='2*n_jobs', random_state=None, refit=True,\n",
              "                   return_train_score=False, scoring=None, verbose=2)"
            ]
          },
          "metadata": {
            "tags": []
          },
          "execution_count": 18
        }
      ]
    },
    {
      "cell_type": "markdown",
      "metadata": {
        "id": "fYdRR2_Zw0qq"
      },
      "source": [
        "The best parameters selected by the RandomSearchCV algorithm are:"
      ]
    },
    {
      "cell_type": "code",
      "metadata": {
        "colab": {
          "base_uri": "https://localhost:8080/"
        },
        "id": "suhimH5Rw6Jg",
        "outputId": "507770f6-0195-498b-94ab-89522c2c1398"
      },
      "source": [
        "print(rt_random_search.best_params_)"
      ],
      "execution_count": 19,
      "outputs": [
        {
          "output_type": "stream",
          "text": [
            "{'oob_score': True, 'n_estimators': 100, 'min_samples_split': 7, 'min_samples_leaf': 6, 'max_samples': 0.5, 'max_features': 'log2', 'criterion': 'gini', 'bootstrap': True}\n"
          ],
          "name": "stdout"
        }
      ]
    },
    {
      "cell_type": "code",
      "metadata": {
        "id": "VAebg6Al9fDH"
      },
      "source": [
        ""
      ],
      "execution_count": null,
      "outputs": []
    },
    {
      "cell_type": "code",
      "metadata": {
        "id": "myztERJ_wJqf"
      },
      "source": [
        "#predicting results using test set\n",
        "#note: by using random search, our model retains the best parameters which also can be accessed with .best_parameters_ property.\n",
        "y_pred = rt_random_search.predict(X_test)"
      ],
      "execution_count": 35,
      "outputs": []
    },
    {
      "cell_type": "code",
      "metadata": {
        "colab": {
          "base_uri": "https://localhost:8080/",
          "height": 317
        },
        "id": "rFgCGOjTwjnZ",
        "outputId": "e738d3ba-c04e-4b44-ffea-0bec74016149"
      },
      "source": [
        "# Making the Confusion Matrix\n",
        "cm = confusion_matrix(y_test, y_pred)\n",
        "sns.heatmap(cm, annot=True, xticklabels=['Negative' , 'Positive'], yticklabels=['Negative' , 'Positive'], cmap = 'rocket', vmax = 1000, vmin =0, fmt = 'g')\n",
        "plt.ylabel(\"Label\")\n",
        "plt.xlabel(\"Predicted\")\n",
        "plt.show()\n",
        "accuracy_rt_random = accuracy_score(y_test, y_pred)\n",
        "print('\\n Accuracy Score:',accuracy_rt_random)"
      ],
      "execution_count": 36,
      "outputs": [
        {
          "output_type": "display_data",
          "data": {
            "image/png": "[encoded data removed]",
            "text/plain": [
              "<Figure size 432x288 with 2 Axes>"
            ]
          },
          "metadata": {
            "tags": [],
            "needs_background": "light"
          }
        },
        {
          "output_type": "stream",
          "text": [
            "\n",
            " Accuracy Score: 0.9087378640776699\n"
          ],
          "name": "stdout"
        }
      ]
    },
    {
      "cell_type": "markdown",
      "metadata": {
        "id": "ltxEq9zcxFDm"
      },
      "source": [
        "* Using this Random Forest we achieved a slightly better improvement (< 1%) on our accuracy score, but it's notable that the number of false positives are reduced considerably (aprx. 66% reduction). False positives where the biggest innacuracy of our previous models, and for that the outcome is sactisfactory. "
      ]
    },
    {
      "cell_type": "markdown",
      "metadata": {
        "id": "YCWYBMz9zppv"
      },
      "source": [
        "* But yet, we have more false negatives than true positives. This is probably caused by the marjority of labels being negative, which makes the model be heavily skewed towards classifing every result as negative. \n",
        "\n",
        "We can, trough some clever techniques, avoid solving this problem trough complex methods like oversampling or rebalancing the variables weight can be done. We will do this in this next section. "
      ]
    },
    {
      "cell_type": "markdown",
      "metadata": {
        "id": "oed1KMLA0Krd"
      },
      "source": [
        "###Adjusting the decision threshold"
      ]
    },
    {
      "cell_type": "code",
      "metadata": {
        "id": "39h0DJUe0RQN"
      },
      "source": [
        "#We will use the predict_proba method, but also changing the threshold for a \"y\" result (which is usually 0.5) to 35% certainty. \n",
        "\n",
        "y_pred = (rt_random_search.predict_proba(X_test)[:,1] >= 0.35).astype(bool)"
      ],
      "execution_count": 30,
      "outputs": []
    },
    {
      "cell_type": "code",
      "metadata": {
        "colab": {
          "base_uri": "https://localhost:8080/",
          "height": 317
        },
        "id": "xKs-kssXBEcw",
        "outputId": "ec809c9a-3c11-4a82-c7d5-0ecd4f506ea4"
      },
      "source": [
        "# Making the Confusion Matrix\n",
        "cm = confusion_matrix(y_test, y_pred)\n",
        "sns.heatmap(cm, annot=True, xticklabels=['Negative' , 'Positive'], yticklabels=['Negative' , 'Positive'], cmap = 'rocket', vmax = 1000, vmin =0, fmt = 'g')\n",
        "plt.ylabel(\"Label\")\n",
        "plt.xlabel(\"Predicted\")\n",
        "plt.show()\n",
        "accuracy_rt_random = accuracy_score(y_test, y_pred)\n",
        "print(\"\\n Accuracy Score: \",accuracy_rt_random)"
      ],
      "execution_count": 34,
      "outputs": [
        {
          "output_type": "display_data",
          "data": {
            "image/png": "[encoded data removed]",
            "text/plain": [
              "<Figure size 432x288 with 2 Axes>"
            ]
          },
          "metadata": {
            "tags": [],
            "needs_background": "light"
          }
        },
        {
          "output_type": "stream",
          "text": [
            "\n",
            " Accuracy Score:  0.9029126213592233\n"
          ],
          "name": "stdout"
        }
      ]
    },
    {
      "cell_type": "markdown",
      "metadata": {
        "id": "DJtMdgUQDR2K"
      },
      "source": [
        "* The number of TP (True positive) has increased in almost 300%, but also note that the number of FP (False positives) has increased 400%. \n",
        "\n",
        "* Also, we maintened a very similar accuracy score as the attempt we have done before. "
      ]
    },
    {
      "cell_type": "markdown",
      "metadata": {
        "id": "XP8lNsRWCF6j"
      },
      "source": [
        "As we can see above, changing the decision threshold for positive results, decreases the number of false negative results, but also creates more false positives results. **This is now up to the company to decide the cost of losing a potential sale oportunity, and porsuing a probable hard sale.** And, with this data determine the proportion of FP and FN acceptable for their strategy. \n",
        "\n",
        "  This is a big problem for heavily imbalanced dataset such as this one, and adjusting hyperparameters and using decision threshold or even SMOTE-NC can do so much. "
      ]
    }
  ]
}