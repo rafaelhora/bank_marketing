{
  "cells": [
    {
      "cell_type": "markdown",
      "source": [
        "# Predicting the Success of a Bank Telemarketing Campaign"
      ],
      "metadata": {
        "id": "FJKjtgPijnAR"
      }
    },
    {
      "cell_type": "markdown",
      "source": [
        "## About the database"
      ],
      "metadata": {
        "id": "FtdEdAG-jtE_"
      }
    },
    {
      "cell_type": "markdown",
      "source": [
        "We will use the bank-additional database since according to the UCI website, is the most approximate to the one used by [Moro et al., 2014] article. "
      ],
      "metadata": {
        "id": "-LnYMfW1Ac01"
      }
    },
    {
      "cell_type": "markdown",
      "source": [
        "### Introduction\r\n",
        "\r\n",
        "  The data is related with direct marketing campaigns of a Portuguese banking institution. The marketing campaigns were based on phone calls. Often, more than one contact to the same client was required, in order to access if the product (bank term deposit) would be ('yes') or not ('no') subscribed.\r\n",
        "\r\n",
        "------\r\n",
        "\r\n",
        "###Source \r\n",
        "[Moro et al., 2014] S. Moro, P. Cortez and P. Rita. A Data-Driven Approach to Predict the Success of Bank Telemarketing. Decision Support Systems, Elsevier, 62:22-31, June 2014\r\n",
        "\r\n",
        "https://archive.ics.uci.edu/ml/datasets/Bank+Marketing\r\n",
        "\r\n",
        "---\r\n",
        "\r\n",
        "### Atributes\r\n",
        "\r\n",
        "Input variables:\r\n",
        "\r\n",
        "**bank client data:**\r\n",
        "\r\n",
        "1 - age (numeric)\r\n",
        "\r\n",
        "2 - job : type of job (categorical: 'admin.','blue-collar','entrepreneur','housemaid','management','retired','self-employed','services','student','technician','unemployed','unknown')\r\n",
        "\r\n",
        "3 - marital : marital status (categorical: 'divorced','married','single','unknown'; note: 'divorced' means divorced or widowed)\r\n",
        "\r\n",
        "4 - education (categorical: 'basic.4y','basic.6y','basic.9y','high.school','illiterate','professional.course','university.degree','unknown')\r\n",
        "\r\n",
        "5 - default: has credit in default? (categorical: 'no','yes','unknown')\r\n",
        "\r\n",
        "6 - housing: has housing loan? (categorical: 'no','yes','unknown')\r\n",
        "\r\n",
        "7 - loan: has personal loan? (categorical: 'no','yes','unknown') related with the last contact of the current campaign:\r\n",
        "\r\n",
        "8 - contact: contact communication type (categorical: 'cellular','telephone')\r\n",
        "\r\n",
        "9 - month: last contact month of year (categorical: 'jan', 'feb', 'mar', ..., 'nov', 'dec')\r\n",
        "\r\n",
        "10 - day_of_week: last contact day of the week (categorical: 'mon','tue','wed','thu','fri')\r\n",
        "\r\n",
        "11 - duration: last contact duration, in seconds (numeric). Important note: this attribute highly affects the output target (e.g., if duration=0 then y='no'). Yet, the duration is not known before a call is performed. Also, after the end of the call y is obviously known. Thus, this input should only be included for benchmark purposes and should be discarded if the intention is to have a realistic predictive model.\r\n",
        "\r\n",
        "**other attributes:**\r\n",
        "\r\n",
        "12 - campaign: number of contacts performed during this campaign and for this client (numeric, includes last contact)\r\n",
        "\r\n",
        "13 - pdays: number of days that passed by after the client was last contacted from a previous campaign (numeric; 999 means client was not previously contacted)\r\n",
        "\r\n",
        "14 - previous: number of contacts performed before this campaign and for this client (numeric)\r\n",
        "\r\n",
        "15 - poutcome: outcome of the previous marketing campaign (categorical: 'failure','nonexistent','success')\r\n",
        "\r\n",
        "**social and economic context attributes**\r\n",
        "\r\n",
        "16 - emp.var.rate: employment variation rate - quarterly indicator (numeric)\r\n",
        "\r\n",
        "17 - cons.price.idx: consumer price index - monthly indicator (numeric)\r\n",
        "\r\n",
        "18 - cons.conf.idx: consumer confidence index - monthly indicator (numeric)\r\n",
        "\r\n",
        "19 - euribor3m: euribor 3 month rate - daily indicator (numeric)\r\n",
        "\r\n",
        "20 - nr.employed: number of employees - quarterly indicator (numeric)\r\n",
        "\r\n",
        "**Output variable (desired target):**\r\n",
        "\r\n",
        "21 - y - has the client subscribed a term deposit? (binary: 'yes','no')"
      ],
      "metadata": {
        "id": "dL17ISg6jvcP"
      }
    },
    {
      "cell_type": "markdown",
      "source": [
        "---"
      ],
      "metadata": {
        "id": "AKr0TNIOEbE_"
      }
    },
    {
      "cell_type": "markdown",
      "source": [
        "## Importing libraries and database"
      ],
      "metadata": {
        "id": "1T_8wRLnp8vv"
      }
    },
    {
      "cell_type": "code",
      "execution_count": 1,
      "source": [
        "#basic libraries\r\n",
        "import pandas as pd\r\n",
        "import matplotlib.pyplot as plt\r\n",
        "import numpy as np\r\n",
        "import seaborn as sns\r\n",
        "import matplotlib.ticker as mticker\r\n",
        "from sklearn.metrics import confusion_matrix, classification_report\r\n",
        "\r\n",
        "dataset = pd.read_csv('bank-additional.csv', sep = ';')\r\n",
        "df = dataset.copy()\r\n",
        "dataset = dataset.dropna(how = 'any')\r\n",
        "dataset.head() #checking if import was successful"
      ],
      "outputs": [
        {
          "output_type": "execute_result",
          "data": {
            "text/plain": [
              "   age        job  marital    education  default housing loan    contact  \\\n",
              "0   56  housemaid  married     basic.4y       no      no   no  telephone   \n",
              "1   57   services  married  high.school  unknown      no   no  telephone   \n",
              "2   37   services  married  high.school       no     yes   no  telephone   \n",
              "3   40     admin.  married     basic.6y       no      no   no  telephone   \n",
              "4   56   services  married  high.school       no      no  yes  telephone   \n",
              "\n",
              "  month day_of_week  ...  campaign  pdays  previous     poutcome emp.var.rate  \\\n",
              "0   may         mon  ...         1    999         0  nonexistent          1.1   \n",
              "1   may         mon  ...         1    999         0  nonexistent          1.1   \n",
              "2   may         mon  ...         1    999         0  nonexistent          1.1   \n",
              "3   may         mon  ...         1    999         0  nonexistent          1.1   \n",
              "4   may         mon  ...         1    999         0  nonexistent          1.1   \n",
              "\n",
              "   cons.price.idx  cons.conf.idx  euribor3m  nr.employed   y  \n",
              "0          93.994          -36.4      4.857       5191.0  no  \n",
              "1          93.994          -36.4      4.857       5191.0  no  \n",
              "2          93.994          -36.4      4.857       5191.0  no  \n",
              "3          93.994          -36.4      4.857       5191.0  no  \n",
              "4          93.994          -36.4      4.857       5191.0  no  \n",
              "\n",
              "[5 rows x 21 columns]"
            ],
            "text/html": [
              "<div>\n",
              "<style scoped>\n",
              "    .dataframe tbody tr th:only-of-type {\n",
              "        vertical-align: middle;\n",
              "    }\n",
              "\n",
              "    .dataframe tbody tr th {\n",
              "        vertical-align: top;\n",
              "    }\n",
              "\n",
              "    .dataframe thead th {\n",
              "        text-align: right;\n",
              "    }\n",
              "</style>\n",
              "<table border=\"1\" class=\"dataframe\">\n",
              "  <thead>\n",
              "    <tr style=\"text-align: right;\">\n",
              "      <th></th>\n",
              "      <th>age</th>\n",
              "      <th>job</th>\n",
              "      <th>marital</th>\n",
              "      <th>education</th>\n",
              "      <th>default</th>\n",
              "      <th>housing</th>\n",
              "      <th>loan</th>\n",
              "      <th>contact</th>\n",
              "      <th>month</th>\n",
              "      <th>day_of_week</th>\n",
              "      <th>...</th>\n",
              "      <th>campaign</th>\n",
              "      <th>pdays</th>\n",
              "      <th>previous</th>\n",
              "      <th>poutcome</th>\n",
              "      <th>emp.var.rate</th>\n",
              "      <th>cons.price.idx</th>\n",
              "      <th>cons.conf.idx</th>\n",
              "      <th>euribor3m</th>\n",
              "      <th>nr.employed</th>\n",
              "      <th>y</th>\n",
              "    </tr>\n",
              "  </thead>\n",
              "  <tbody>\n",
              "    <tr>\n",
              "      <th>0</th>\n",
              "      <td>56</td>\n",
              "      <td>housemaid</td>\n",
              "      <td>married</td>\n",
              "      <td>basic.4y</td>\n",
              "      <td>no</td>\n",
              "      <td>no</td>\n",
              "      <td>no</td>\n",
              "      <td>telephone</td>\n",
              "      <td>may</td>\n",
              "      <td>mon</td>\n",
              "      <td>...</td>\n",
              "      <td>1</td>\n",
              "      <td>999</td>\n",
              "      <td>0</td>\n",
              "      <td>nonexistent</td>\n",
              "      <td>1.1</td>\n",
              "      <td>93.994</td>\n",
              "      <td>-36.4</td>\n",
              "      <td>4.857</td>\n",
              "      <td>5191.0</td>\n",
              "      <td>no</td>\n",
              "    </tr>\n",
              "    <tr>\n",
              "      <th>1</th>\n",
              "      <td>57</td>\n",
              "      <td>services</td>\n",
              "      <td>married</td>\n",
              "      <td>high.school</td>\n",
              "      <td>unknown</td>\n",
              "      <td>no</td>\n",
              "      <td>no</td>\n",
              "      <td>telephone</td>\n",
              "      <td>may</td>\n",
              "      <td>mon</td>\n",
              "      <td>...</td>\n",
              "      <td>1</td>\n",
              "      <td>999</td>\n",
              "      <td>0</td>\n",
              "      <td>nonexistent</td>\n",
              "      <td>1.1</td>\n",
              "      <td>93.994</td>\n",
              "      <td>-36.4</td>\n",
              "      <td>4.857</td>\n",
              "      <td>5191.0</td>\n",
              "      <td>no</td>\n",
              "    </tr>\n",
              "    <tr>\n",
              "      <th>2</th>\n",
              "      <td>37</td>\n",
              "      <td>services</td>\n",
              "      <td>married</td>\n",
              "      <td>high.school</td>\n",
              "      <td>no</td>\n",
              "      <td>yes</td>\n",
              "      <td>no</td>\n",
              "      <td>telephone</td>\n",
              "      <td>may</td>\n",
              "      <td>mon</td>\n",
              "      <td>...</td>\n",
              "      <td>1</td>\n",
              "      <td>999</td>\n",
              "      <td>0</td>\n",
              "      <td>nonexistent</td>\n",
              "      <td>1.1</td>\n",
              "      <td>93.994</td>\n",
              "      <td>-36.4</td>\n",
              "      <td>4.857</td>\n",
              "      <td>5191.0</td>\n",
              "      <td>no</td>\n",
              "    </tr>\n",
              "    <tr>\n",
              "      <th>3</th>\n",
              "      <td>40</td>\n",
              "      <td>admin.</td>\n",
              "      <td>married</td>\n",
              "      <td>basic.6y</td>\n",
              "      <td>no</td>\n",
              "      <td>no</td>\n",
              "      <td>no</td>\n",
              "      <td>telephone</td>\n",
              "      <td>may</td>\n",
              "      <td>mon</td>\n",
              "      <td>...</td>\n",
              "      <td>1</td>\n",
              "      <td>999</td>\n",
              "      <td>0</td>\n",
              "      <td>nonexistent</td>\n",
              "      <td>1.1</td>\n",
              "      <td>93.994</td>\n",
              "      <td>-36.4</td>\n",
              "      <td>4.857</td>\n",
              "      <td>5191.0</td>\n",
              "      <td>no</td>\n",
              "    </tr>\n",
              "    <tr>\n",
              "      <th>4</th>\n",
              "      <td>56</td>\n",
              "      <td>services</td>\n",
              "      <td>married</td>\n",
              "      <td>high.school</td>\n",
              "      <td>no</td>\n",
              "      <td>no</td>\n",
              "      <td>yes</td>\n",
              "      <td>telephone</td>\n",
              "      <td>may</td>\n",
              "      <td>mon</td>\n",
              "      <td>...</td>\n",
              "      <td>1</td>\n",
              "      <td>999</td>\n",
              "      <td>0</td>\n",
              "      <td>nonexistent</td>\n",
              "      <td>1.1</td>\n",
              "      <td>93.994</td>\n",
              "      <td>-36.4</td>\n",
              "      <td>4.857</td>\n",
              "      <td>5191.0</td>\n",
              "      <td>no</td>\n",
              "    </tr>\n",
              "  </tbody>\n",
              "</table>\n",
              "<p>5 rows × 21 columns</p>\n",
              "</div>"
            ]
          },
          "metadata": {},
          "execution_count": 1
        }
      ],
      "metadata": {
        "colab": {
          "base_uri": "https://localhost:8080/",
          "height": 204
        },
        "id": "2lFYb6JdqDuH",
        "outputId": "a7fdcfd0-25a3-40bf-e9e3-c7541ea472a6"
      }
    },
    {
      "cell_type": "code",
      "execution_count": 3,
      "source": [
        "dataset.info()"
      ],
      "outputs": [
        {
          "output_type": "stream",
          "name": "stdout",
          "text": [
            "<class 'pandas.core.frame.DataFrame'>\n",
            "Int64Index: 41188 entries, 0 to 41187\n",
            "Data columns (total 21 columns):\n",
            " #   Column          Non-Null Count  Dtype  \n",
            "---  ------          --------------  -----  \n",
            " 0   age             41188 non-null  int64  \n",
            " 1   job             41188 non-null  object \n",
            " 2   marital         41188 non-null  object \n",
            " 3   education       41188 non-null  object \n",
            " 4   default         41188 non-null  object \n",
            " 5   housing         41188 non-null  object \n",
            " 6   loan            41188 non-null  object \n",
            " 7   contact         41188 non-null  object \n",
            " 8   month           41188 non-null  object \n",
            " 9   day_of_week     41188 non-null  object \n",
            " 10  duration        41188 non-null  int64  \n",
            " 11  campaign        41188 non-null  int64  \n",
            " 12  pdays           41188 non-null  int64  \n",
            " 13  previous        41188 non-null  int64  \n",
            " 14  poutcome        41188 non-null  object \n",
            " 15  emp.var.rate    41188 non-null  float64\n",
            " 16  cons.price.idx  41188 non-null  float64\n",
            " 17  cons.conf.idx   41188 non-null  float64\n",
            " 18  euribor3m       41188 non-null  float64\n",
            " 19  nr.employed     41188 non-null  float64\n",
            " 20  y               41188 non-null  object \n",
            "dtypes: float64(5), int64(5), object(11)\n",
            "memory usage: 6.9+ MB\n"
          ]
        }
      ],
      "metadata": {
        "colab": {
          "base_uri": "https://localhost:8080/"
        },
        "id": "Ux5lkR5r8osq",
        "outputId": "4ef548af-7f1d-4276-b390-203b40bcf061"
      }
    },
    {
      "cell_type": "markdown",
      "source": [
        "As it's noted in dataset description, we will be droping the Duration attribute due to heavily affecting the model, but this metric can only be known after the call is made, so for prediction purposes shouldn't be considered. "
      ],
      "metadata": {
        "id": "BSNAMVn6FIyM"
      }
    },
    {
      "cell_type": "code",
      "execution_count": 4,
      "source": [
        "dataset.drop(columns = 'duration', inplace = True)"
      ],
      "outputs": [],
      "metadata": {
        "id": "dtJqXhEdFdZZ"
      }
    },
    {
      "cell_type": "markdown",
      "source": [
        "### Scaling numeric variables"
      ],
      "metadata": {
        "id": "iUqn_BwrL7Pc"
      }
    },
    {
      "cell_type": "code",
      "execution_count": 5,
      "source": [
        "from sklearn.preprocessing import StandardScaler\r\n",
        "from sklearn.compose import ColumnTransformer\r\n",
        "\r\n",
        "ct = ColumnTransformer([('ct', StandardScaler(), ['campaign', 'pdays', 'previous'])], remainder='passthrough')\r\n",
        "\r\n",
        "ct.fit_transform(dataset)\r\n"
      ],
      "outputs": [
        {
          "output_type": "execute_result",
          "data": {
            "text/plain": [
              "array([[-0.5659219741930245, 0.1954139001271294, -0.34949428419757467,\n",
              "        ..., 4.857, 5191.0, 'no'],\n",
              "       [-0.5659219741930245, 0.1954139001271294, -0.34949428419757467,\n",
              "        ..., 4.857, 5191.0, 'no'],\n",
              "       [-0.5659219741930245, 0.1954139001271294, -0.34949428419757467,\n",
              "        ..., 4.857, 5191.0, 'no'],\n",
              "       ...,\n",
              "       [-0.2049085263557372, 0.1954139001271294, -0.34949428419757467,\n",
              "        ..., 1.028, 4963.6, 'no'],\n",
              "       [-0.5659219741930245, 0.1954139001271294, -0.34949428419757467,\n",
              "        ..., 1.028, 4963.6, 'yes'],\n",
              "       [0.15610492148155006, 0.1954139001271294, 1.6711360607672916, ...,\n",
              "        1.028, 4963.6, 'no']], dtype=object)"
            ]
          },
          "metadata": {},
          "execution_count": 5
        }
      ],
      "metadata": {
        "colab": {
          "base_uri": "https://localhost:8080/"
        },
        "id": "WFiqxibsMCts",
        "outputId": "785d7e6d-99a7-4b31-918c-fe2e5efa08ba"
      }
    },
    {
      "cell_type": "markdown",
      "source": [
        "### Encoding Categorical variables"
      ],
      "metadata": {
        "id": "ghlz-ULb1j4g"
      }
    },
    {
      "cell_type": "code",
      "execution_count": 6,
      "source": [
        "#encoding categorical data\r\n",
        "from sklearn.preprocessing import LabelEncoder\r\n",
        "dataset_encoded = dataset.copy()\r\n",
        "dataset_encoded = pd.get_dummies(dataset_encoded, columns=['job', 'marital', 'education', 'default', 'housing', 'loan', 'contact', 'month', 'day_of_week', 'poutcome'])\r\n",
        "le = LabelEncoder()\r\n",
        "\r\n",
        "dataset_encoded['y'] = le.fit_transform(dataset_encoded['y'])\r\n",
        "col_y = dataset_encoded.pop('y')\r\n",
        "dataset_encoded['y'] = col_y"
      ],
      "outputs": [],
      "metadata": {
        "id": "QKJoEw2F29th"
      }
    },
    {
      "cell_type": "code",
      "execution_count": 7,
      "source": [
        "dataset_encoded.head()"
      ],
      "outputs": [
        {
          "output_type": "execute_result",
          "data": {
            "text/plain": [
              "   age  campaign  pdays  previous  emp.var.rate  cons.price.idx  \\\n",
              "0   56         1    999         0           1.1          93.994   \n",
              "1   57         1    999         0           1.1          93.994   \n",
              "2   37         1    999         0           1.1          93.994   \n",
              "3   40         1    999         0           1.1          93.994   \n",
              "4   56         1    999         0           1.1          93.994   \n",
              "\n",
              "   cons.conf.idx  euribor3m  nr.employed  job_admin.  ...  month_sep  \\\n",
              "0          -36.4      4.857       5191.0           0  ...          0   \n",
              "1          -36.4      4.857       5191.0           0  ...          0   \n",
              "2          -36.4      4.857       5191.0           0  ...          0   \n",
              "3          -36.4      4.857       5191.0           1  ...          0   \n",
              "4          -36.4      4.857       5191.0           0  ...          0   \n",
              "\n",
              "   day_of_week_fri  day_of_week_mon  day_of_week_thu  day_of_week_tue  \\\n",
              "0                0                1                0                0   \n",
              "1                0                1                0                0   \n",
              "2                0                1                0                0   \n",
              "3                0                1                0                0   \n",
              "4                0                1                0                0   \n",
              "\n",
              "   day_of_week_wed  poutcome_failure  poutcome_nonexistent  poutcome_success  \\\n",
              "0                0                 0                     1                 0   \n",
              "1                0                 0                     1                 0   \n",
              "2                0                 0                     1                 0   \n",
              "3                0                 0                     1                 0   \n",
              "4                0                 0                     1                 0   \n",
              "\n",
              "   y  \n",
              "0  0  \n",
              "1  0  \n",
              "2  0  \n",
              "3  0  \n",
              "4  0  \n",
              "\n",
              "[5 rows x 63 columns]"
            ],
            "text/html": [
              "<div>\n",
              "<style scoped>\n",
              "    .dataframe tbody tr th:only-of-type {\n",
              "        vertical-align: middle;\n",
              "    }\n",
              "\n",
              "    .dataframe tbody tr th {\n",
              "        vertical-align: top;\n",
              "    }\n",
              "\n",
              "    .dataframe thead th {\n",
              "        text-align: right;\n",
              "    }\n",
              "</style>\n",
              "<table border=\"1\" class=\"dataframe\">\n",
              "  <thead>\n",
              "    <tr style=\"text-align: right;\">\n",
              "      <th></th>\n",
              "      <th>age</th>\n",
              "      <th>campaign</th>\n",
              "      <th>pdays</th>\n",
              "      <th>previous</th>\n",
              "      <th>emp.var.rate</th>\n",
              "      <th>cons.price.idx</th>\n",
              "      <th>cons.conf.idx</th>\n",
              "      <th>euribor3m</th>\n",
              "      <th>nr.employed</th>\n",
              "      <th>job_admin.</th>\n",
              "      <th>...</th>\n",
              "      <th>month_sep</th>\n",
              "      <th>day_of_week_fri</th>\n",
              "      <th>day_of_week_mon</th>\n",
              "      <th>day_of_week_thu</th>\n",
              "      <th>day_of_week_tue</th>\n",
              "      <th>day_of_week_wed</th>\n",
              "      <th>poutcome_failure</th>\n",
              "      <th>poutcome_nonexistent</th>\n",
              "      <th>poutcome_success</th>\n",
              "      <th>y</th>\n",
              "    </tr>\n",
              "  </thead>\n",
              "  <tbody>\n",
              "    <tr>\n",
              "      <th>0</th>\n",
              "      <td>56</td>\n",
              "      <td>1</td>\n",
              "      <td>999</td>\n",
              "      <td>0</td>\n",
              "      <td>1.1</td>\n",
              "      <td>93.994</td>\n",
              "      <td>-36.4</td>\n",
              "      <td>4.857</td>\n",
              "      <td>5191.0</td>\n",
              "      <td>0</td>\n",
              "      <td>...</td>\n",
              "      <td>0</td>\n",
              "      <td>0</td>\n",
              "      <td>1</td>\n",
              "      <td>0</td>\n",
              "      <td>0</td>\n",
              "      <td>0</td>\n",
              "      <td>0</td>\n",
              "      <td>1</td>\n",
              "      <td>0</td>\n",
              "      <td>0</td>\n",
              "    </tr>\n",
              "    <tr>\n",
              "      <th>1</th>\n",
              "      <td>57</td>\n",
              "      <td>1</td>\n",
              "      <td>999</td>\n",
              "      <td>0</td>\n",
              "      <td>1.1</td>\n",
              "      <td>93.994</td>\n",
              "      <td>-36.4</td>\n",
              "      <td>4.857</td>\n",
              "      <td>5191.0</td>\n",
              "      <td>0</td>\n",
              "      <td>...</td>\n",
              "      <td>0</td>\n",
              "      <td>0</td>\n",
              "      <td>1</td>\n",
              "      <td>0</td>\n",
              "      <td>0</td>\n",
              "      <td>0</td>\n",
              "      <td>0</td>\n",
              "      <td>1</td>\n",
              "      <td>0</td>\n",
              "      <td>0</td>\n",
              "    </tr>\n",
              "    <tr>\n",
              "      <th>2</th>\n",
              "      <td>37</td>\n",
              "      <td>1</td>\n",
              "      <td>999</td>\n",
              "      <td>0</td>\n",
              "      <td>1.1</td>\n",
              "      <td>93.994</td>\n",
              "      <td>-36.4</td>\n",
              "      <td>4.857</td>\n",
              "      <td>5191.0</td>\n",
              "      <td>0</td>\n",
              "      <td>...</td>\n",
              "      <td>0</td>\n",
              "      <td>0</td>\n",
              "      <td>1</td>\n",
              "      <td>0</td>\n",
              "      <td>0</td>\n",
              "      <td>0</td>\n",
              "      <td>0</td>\n",
              "      <td>1</td>\n",
              "      <td>0</td>\n",
              "      <td>0</td>\n",
              "    </tr>\n",
              "    <tr>\n",
              "      <th>3</th>\n",
              "      <td>40</td>\n",
              "      <td>1</td>\n",
              "      <td>999</td>\n",
              "      <td>0</td>\n",
              "      <td>1.1</td>\n",
              "      <td>93.994</td>\n",
              "      <td>-36.4</td>\n",
              "      <td>4.857</td>\n",
              "      <td>5191.0</td>\n",
              "      <td>1</td>\n",
              "      <td>...</td>\n",
              "      <td>0</td>\n",
              "      <td>0</td>\n",
              "      <td>1</td>\n",
              "      <td>0</td>\n",
              "      <td>0</td>\n",
              "      <td>0</td>\n",
              "      <td>0</td>\n",
              "      <td>1</td>\n",
              "      <td>0</td>\n",
              "      <td>0</td>\n",
              "    </tr>\n",
              "    <tr>\n",
              "      <th>4</th>\n",
              "      <td>56</td>\n",
              "      <td>1</td>\n",
              "      <td>999</td>\n",
              "      <td>0</td>\n",
              "      <td>1.1</td>\n",
              "      <td>93.994</td>\n",
              "      <td>-36.4</td>\n",
              "      <td>4.857</td>\n",
              "      <td>5191.0</td>\n",
              "      <td>0</td>\n",
              "      <td>...</td>\n",
              "      <td>0</td>\n",
              "      <td>0</td>\n",
              "      <td>1</td>\n",
              "      <td>0</td>\n",
              "      <td>0</td>\n",
              "      <td>0</td>\n",
              "      <td>0</td>\n",
              "      <td>1</td>\n",
              "      <td>0</td>\n",
              "      <td>0</td>\n",
              "    </tr>\n",
              "  </tbody>\n",
              "</table>\n",
              "<p>5 rows × 63 columns</p>\n",
              "</div>"
            ]
          },
          "metadata": {},
          "execution_count": 7
        }
      ],
      "metadata": {
        "colab": {
          "base_uri": "https://localhost:8080/",
          "height": 241
        },
        "id": "DwQBRDMYbqFO",
        "outputId": "f5945d77-c5eb-4fd0-f5e1-e0b520b00b72"
      }
    },
    {
      "cell_type": "markdown",
      "source": [
        "## Separating Training and Test sets"
      ],
      "metadata": {
        "id": "xkL2CGgqV7SZ"
      }
    },
    {
      "cell_type": "code",
      "execution_count": 9,
      "source": [
        "X = dataset_encoded.iloc[:, :-1].values\r\n",
        "y = dataset_encoded.iloc[:, -1].values\r\n",
        "\r\n",
        "from sklearn.model_selection import train_test_split\r\n",
        "X_train, X_test, y_train, y_test = train_test_split(X, y, test_size = 0.25, stratify = dataset_encoded['y'])"
      ],
      "outputs": [],
      "metadata": {
        "id": "hIAwXuuzWA3-"
      }
    },
    {
      "cell_type": "markdown",
      "source": [
        "---"
      ],
      "metadata": {
        "id": "CPAxjq5IEYJ3"
      }
    },
    {
      "cell_type": "markdown",
      "source": [
        "## Exploratory Data Analysis"
      ],
      "metadata": {
        "id": "rfjc_gMrt_tg"
      }
    },
    {
      "cell_type": "markdown",
      "source": [
        "### Overview of customer base caracteristics"
      ],
      "metadata": {}
    },
    {
      "cell_type": "code",
      "execution_count": 8,
      "source": [
        "\r\n",
        "print('Customer base grouped by marital status: \\n', df.groupby('marital').y.count(), '\\n')\r\n",
        "\r\n",
        "print('Customer base grouped by profession: \\n', df.groupby('job').y.count(), '\\n')\r\n",
        "\r\n",
        "print('Customer base grouped by educational level: \\n', df.groupby('education').y.count(), '\\n')"
      ],
      "outputs": [
        {
          "output_type": "stream",
          "name": "stdout",
          "text": [
            "Customer base grouped by marital status: \n",
            " marital\n",
            "divorced     4612\n",
            "married     24928\n",
            "single      11568\n",
            "unknown        80\n",
            "Name: y, dtype: int64 \n",
            "\n",
            "Customer base grouped by profession: \n",
            " job\n",
            "admin.           10422\n",
            "blue-collar       9254\n",
            "entrepreneur      1456\n",
            "housemaid         1060\n",
            "management        2924\n",
            "retired           1720\n",
            "self-employed     1421\n",
            "services          3969\n",
            "student            875\n",
            "technician        6743\n",
            "unemployed        1014\n",
            "unknown            330\n",
            "Name: y, dtype: int64 \n",
            "\n",
            "Customer base grouped by educational level: \n",
            " education\n",
            "basic.4y                4176\n",
            "basic.6y                2292\n",
            "basic.9y                6045\n",
            "high.school             9515\n",
            "illiterate                18\n",
            "professional.course     5243\n",
            "university.degree      12168\n",
            "unknown                 1731\n",
            "Name: y, dtype: int64 \n",
            "\n"
          ]
        }
      ],
      "metadata": {
        "cellView": "form",
        "colab": {
          "base_uri": "https://localhost:8080/"
        },
        "id": "Q2PVAuOHHFEr",
        "outputId": "3ac66648-713a-4dee-bbe0-1a55b29704cb"
      }
    },
    {
      "cell_type": "markdown",
      "source": [
        "---"
      ],
      "metadata": {
        "id": "V9m9dAaKJqfF"
      }
    },
    {
      "cell_type": "markdown",
      "source": [
        "### Correlation Matrix of the variables"
      ],
      "metadata": {
        "id": "3HkeaJlDB0D4"
      }
    },
    {
      "cell_type": "code",
      "execution_count": 6,
      "source": [
        "fig, ax = plt.subplots(1,1, figsize = (10,10))\r\n",
        "corr = df.corr()\r\n",
        "mask = np.triu(np.ones_like(df.corr()))\r\n",
        "sns.heatmap(corr, mask = mask, cmap = 'coolwarm', annot = True, fmt='.2g')\r\n",
        "\r\n",
        "plt.show()"
      ],
      "outputs": [
        {
          "output_type": "display_data",
          "data": {
            "text/plain": [
              "<Figure size 720x720 with 2 Axes>"
            ],
            "image/png": "[encoded data removed]"
          },
          "metadata": {
            "needs_background": "light"
          }
        }
      ],
      "metadata": {
        "colab": {
          "base_uri": "https://localhost:8080/",
          "height": 0
        },
        "id": "TOFc5rYBuDpd",
        "outputId": "1d7297a8-261b-424f-b7d5-2811a1bebdc9"
      }
    },
    {
      "cell_type": "markdown",
      "source": [
        "Trough vizualizing the correlation heat map, you can conclude what is already expected from this type of variables, macroeconomic metrics are highly correlated. But we can't extract, for now, no relation with the profile of the customers contacted or probabilty of success. "
      ],
      "metadata": {
        "id": "8uLWldrRB6LR"
      }
    },
    {
      "cell_type": "markdown",
      "source": [
        "---"
      ],
      "metadata": {
        "id": "O-jwidEeJo-G"
      }
    },
    {
      "cell_type": "markdown",
      "source": [
        "### What is the general conversion rate of the campaign?"
      ],
      "metadata": {
        "id": "pwxLDSjb471p"
      }
    },
    {
      "cell_type": "code",
      "execution_count": 8,
      "source": [
        "fig, ax = plt.subplots(1,1, figsize = (8,8))\r\n",
        "\r\n",
        "color_dict = {'yes': '#5AA469', 'no': '#D35D6E'} #to use in Seaborn graphs\r\n",
        "colors = [\"#D35D6E\", \"#5AA469\"] #to use as matplotlib graphs\r\n",
        "\r\n",
        "labels =\"Did not Open Term Suscriptions\", \"Opened Term Suscriptions\"\r\n",
        "\r\n",
        "df[\"y\"].value_counts().plot.pie(explode=[0,0.15], autopct = lambda p : '{:.2f}% ({:,.0f})'.format(p,p * sum(df[\"y\"].value_counts())/100), shadow=True, colors=colors, labels=labels, fontsize=14, startangle=-45)\r\n",
        "plt.suptitle('Term Suscriptions', fontsize=24)\r\n",
        "\r\n",
        "plt.show()"
      ],
      "outputs": [
        {
          "output_type": "display_data",
          "data": {
            "text/plain": [
              "<Figure size 576x576 with 1 Axes>"
            ],
            "image/png": "[encoded data removed]"
          },
          "metadata": {}
        }
      ],
      "metadata": {
        "cellView": "form",
        "colab": {
          "base_uri": "https://localhost:8080/",
          "height": 0
        },
        "id": "I_mGx0-g62d4",
        "outputId": "51d6bd32-63bd-4598-fa9f-7ea36407fdd8"
      }
    },
    {
      "cell_type": "markdown",
      "source": [
        "We can see that this dataset is heavily imbalanced towards 'no'. That's expected for convertion rates of cold calling campaigns.\n",
        "\n",
        "> But still, it's important to take that in consideration at the modelling part, as this will heavily impact the classifier results\n",
        "\n"
      ],
      "metadata": {
        "id": "xcjtfwnhRD5e"
      }
    },
    {
      "cell_type": "markdown",
      "source": [
        "---"
      ],
      "metadata": {
        "id": "_j7TtzFwJm3t"
      }
    },
    {
      "cell_type": "markdown",
      "source": [
        "### What is the relation between age and conversion rate?"
      ],
      "metadata": {}
    },
    {
      "cell_type": "code",
      "execution_count": 109,
      "source": [
        "import matplotlib as mpl\r\n",
        "sns.set_style('whitegrid')\r\n",
        "f, ax = plt.subplots(figsize=(7, 5))\r\n",
        "sns.despine(f)\r\n",
        "\r\n",
        "sns.histplot(\r\n",
        "    data=df,\r\n",
        "    x=\"age\", hue=\"y\",\r\n",
        "    multiple=\"fill\",\r\n",
        "    palette=color_dict,\r\n",
        "    edgecolor=\".3\",\r\n",
        "    linewidth=.5,\r\n",
        "    stat='frequency',\r\n",
        "    binwidth=5\r\n",
        ")\r\n",
        "\r\n",
        "ax.xaxis.set_major_formatter(mpl.ticker.ScalarFormatter())\r\n",
        "ax.set_xticks(np.arange(0,110,10))\r\n",
        "ax.set_yticks(np.arange(0,1,0.05))\r\n",
        "\r\n",
        "plt.show()"
      ],
      "outputs": [
        {
          "output_type": "display_data",
          "data": {
            "text/plain": [
              "<Figure size 504x360 with 1 Axes>"
            ],
            "image/png": "[encoded data removed]"
          },
          "metadata": {}
        }
      ],
      "metadata": {}
    },
    {
      "cell_type": "markdown",
      "source": [
        "It seems that customers with 65+ years are more prone to accept the subscription term. \r\n",
        "Notably, customers between 25 and 60 years don't seem to be interest in the product."
      ],
      "metadata": {}
    },
    {
      "cell_type": "markdown",
      "source": [
        "---"
      ],
      "metadata": {
        "id": "_e4GOHDyJv91"
      }
    },
    {
      "cell_type": "markdown",
      "source": [
        "### Does people of a work sector tend have greater chance to subscribe to the terms?"
      ],
      "metadata": {
        "id": "-eP1NqKK5wVL"
      }
    },
    {
      "cell_type": "code",
      "execution_count": 11,
      "source": [
        "#@title\r\n",
        "job_count = df.groupby(['job','y'], as_index=True)['y'].count().reset_index(name ='Count') #generate new dataframe adding a column called 'Count' wich is the result of groupby() method\r\n",
        "job_count['Normalized'] = job_count['Count']/job_count.groupby('job').Count.transform('sum') #create new column called \"Normalized\" which is the 'Count' column value normalized for 'job' and 'y' values\r\n",
        "\r\n",
        "g = sns.catplot(x='y',y='Normalized',  data=job_count,\r\n",
        "                kind='bar', aspect=.6, palette= colors, col = 'job')\r\n",
        "\r\n",
        "(g.set_axis_labels(\"Subscribed to the Term?\", \"Rate\")\r\n",
        "  .set_titles(\"{col_name}\")\r\n",
        "  .set(ylim=(0,1)))\r\n",
        "\r\n",
        "plt.tight_layout()\r\n",
        "plt.savefig('work_sector.jpg')#check content folder on colab for JPG file\r\n",
        "plt.show()\r\n"
      ],
      "outputs": [
        {
          "output_type": "display_data",
          "data": {
            "text/plain": [
              "<Figure size 2592x360 with 12 Axes>"
            ],
            "image/png": "[encoded data removed]"
          },
          "metadata": {
            "needs_background": "light"
          }
        }
      ],
      "metadata": {
        "cellView": "form",
        "colab": {
          "base_uri": "https://localhost:8080/",
          "height": 0
        },
        "id": "s3cmgLVHZvCD",
        "outputId": "7d1e9eaf-31a3-45e5-d6e5-072349e3e49f"
      }
    },
    {
      "cell_type": "code",
      "execution_count": 12,
      "source": [
        "#@title\r\n",
        "pivot_job_count = job_count[job_count.y == 'yes'].sort_values(by = 'Normalized', ascending = False) #Displing only 'yes' results in descending order\r\n",
        "\r\n",
        "print(pivot_job_count)\r\n",
        "print(\"\\n Mean Convertion rate: %.2f%%\" % (pivot_job_count['Normalized'].mean()*100)) \r\n"
      ],
      "outputs": [
        {
          "output_type": "stream",
          "name": "stdout",
          "text": [
            "              job    y  Count  Normalized\n",
            "17        student  yes    275    0.314286\n",
            "11        retired  yes    434    0.252326\n",
            "21     unemployed  yes    144    0.142012\n",
            "1          admin.  yes   1352    0.129726\n",
            "9      management  yes    328    0.112175\n",
            "23        unknown  yes     37    0.112121\n",
            "19     technician  yes    730    0.108260\n",
            "13  self-employed  yes    149    0.104856\n",
            "7       housemaid  yes    106    0.100000\n",
            "5    entrepreneur  yes    124    0.085165\n",
            "15       services  yes    323    0.081381\n",
            "3     blue-collar  yes    638    0.068943\n",
            "\n",
            " Mean Convertion rate: 13.43%\n"
          ]
        }
      ],
      "metadata": {
        "cellView": "form",
        "colab": {
          "base_uri": "https://localhost:8080/"
        },
        "id": "_xw40A0vmwR6",
        "outputId": "943ff654-63ec-41fa-fa26-e9aadabb68c8"
      }
    },
    {
      "cell_type": "markdown",
      "source": [
        "As we can see, the groups: 'student' and 'retired' have convertion rates about the mean of the entire campaign, and are the work sector publics that should be prioritized."
      ],
      "metadata": {
        "id": "G47en7GIt7-1"
      }
    },
    {
      "cell_type": "markdown",
      "source": [
        "---"
      ],
      "metadata": {
        "id": "g6Ou0eHUubT7"
      }
    },
    {
      "cell_type": "markdown",
      "source": [
        "### Do maried people are more prone to Sign the Subscription Term?"
      ],
      "metadata": {
        "id": "m7-L1X33udYz"
      }
    },
    {
      "cell_type": "code",
      "execution_count": 13,
      "source": [
        "#@title\r\n",
        "marital_count = df.groupby(['marital','y'], as_index=True)['y'].count().reset_index(name ='Count') #generate new dataframe adding a column called 'Count' wich is the result of groupby() method\r\n",
        "marital_count['Normalized'] = marital_count['Count']/marital_count.groupby('marital').Count.transform('sum') #create new column called \"Normalized\" which is the 'Count' column value normalized for 'job' and 'y' values\r\n",
        "\r\n",
        "\r\n",
        "g = sns.catplot(x='y',y='Normalized',  data=marital_count,\r\n",
        "                kind='bar', aspect=.6, palette= colors, col = 'marital')\r\n",
        "(g.set_axis_labels(\"Subscribed to the Term?\", \"Rate\")\r\n",
        "  .set_titles(\"{col_name}\")\r\n",
        "  .set(ylim=(0,1)))\r\n",
        "\r\n",
        "plt.tight_layout()\r\n",
        "plt.savefig('marital_status.jpg')#check content folder on colab for JPG file\r\n",
        "plt.show()"
      ],
      "outputs": [
        {
          "output_type": "display_data",
          "data": {
            "text/plain": [
              "<Figure size 864x360 with 4 Axes>"
            ],
            "image/png": "[encoded data removed]"
          },
          "metadata": {
            "needs_background": "light"
          }
        }
      ],
      "metadata": {
        "cellView": "form",
        "colab": {
          "base_uri": "https://localhost:8080/",
          "height": 0
        },
        "id": "m5DDl37vvekm",
        "outputId": "f7a23f56-53e9-4a24-a21b-b1766306b529"
      }
    },
    {
      "cell_type": "code",
      "execution_count": 14,
      "source": [
        "#@title\r\n",
        "pivot_marital_count = marital_count[marital_count.y == 'yes'].sort_values(by = 'Normalized', ascending = False) #Displing only 'yes' results in descending order\r\n",
        "\r\n",
        "print(pivot_marital_count)\r\n",
        "print(\"\\n Mean Convertion rate: %.2f%%\" % (pivot_marital_count['Normalized'].mean()*100))"
      ],
      "outputs": [
        {
          "output_type": "stream",
          "name": "stdout",
          "text": [
            "    marital    y  Count  Normalized\n",
            "7   unknown  yes     12    0.150000\n",
            "5    single  yes   1620    0.140041\n",
            "1  divorced  yes    476    0.103209\n",
            "3   married  yes   2532    0.101573\n",
            "\n",
            " Mean Convertion rate: 12.37%\n"
          ]
        }
      ],
      "metadata": {
        "cellView": "form",
        "colab": {
          "base_uri": "https://localhost:8080/"
        },
        "id": "nfvyEm1Cw-lI",
        "outputId": "bb65541b-c055-4c92-fb61-94869d94003c"
      }
    },
    {
      "cell_type": "markdown",
      "source": [
        "Single customers have 30% more chance of subscribing to the term. This group should have more attention from the commercial team, but maried customers cannot be put aside due to being the marjority of the customer base and still having a average convertion rate. "
      ],
      "metadata": {
        "id": "-yhg3MVzxsek"
      }
    },
    {
      "cell_type": "markdown",
      "source": [
        "---"
      ],
      "metadata": {
        "id": "ozDz1CQFvdR6"
      }
    },
    {
      "cell_type": "markdown",
      "source": [
        "### Do people with a higher level of education tend to subscribe to the bank's services?"
      ],
      "metadata": {
        "id": "OeB8hVrmJ4Iv"
      }
    },
    {
      "cell_type": "code",
      "execution_count": 15,
      "source": [
        "\r\n",
        "education_count = df.groupby(['education','y'], as_index=True)['y'].count().reset_index(name ='Count') #generate new dataframe adding a column called 'Count' wich is the result of groupby() method\r\n",
        "education_count['Normalized'] = education_count['Count']/education_count.groupby('education').Count.transform('sum') #create new column called \"Normalized\" which is the 'Count' column value normalized for 'education' and 'y' values\r\n",
        "\r\n",
        "g = sns.catplot(x='y',y='Normalized',  data=education_count,\r\n",
        "                kind='bar', aspect=.6, palette= colors, col = 'education')\r\n",
        "\r\n",
        "(g.set_axis_labels(\"Subscribed to the Term?\", \"Rate\")\r\n",
        "  .set_titles(\"{col_name}\")\r\n",
        "  .set(ylim=(0,1)))\r\n",
        "\r\n",
        "plt.tight_layout()\r\n",
        "plt.savefig('education_level.jpg')#check 'content' folder on colab for JPG file\r\n",
        "plt.show()"
      ],
      "outputs": [
        {
          "output_type": "display_data",
          "data": {
            "text/plain": [
              "<Figure size 1728x360 with 8 Axes>"
            ],
            "image/png": "[encoded data removed]"
          },
          "metadata": {
            "needs_background": "light"
          }
        }
      ],
      "metadata": {
        "cellView": "form",
        "colab": {
          "base_uri": "https://localhost:8080/",
          "height": 0
        },
        "id": "yUo6Pz2X16Q8",
        "outputId": "1558f07c-c4f7-4502-958f-1b8e2832b7ec"
      }
    },
    {
      "cell_type": "code",
      "execution_count": 16,
      "source": [
        "#@title\r\n",
        "pivot_education_count = education_count[education_count.y == 'yes'].sort_values(by = 'Normalized', ascending = False) #Displing only 'yes' results in descending order\r\n",
        "\r\n",
        "print(pivot_education_count)\r\n",
        "print(\"\\n Mean Convertion rate: %.2f%%\" % (pivot_education_count['Normalized'].mean()*100))"
      ],
      "outputs": [
        {
          "output_type": "stream",
          "name": "stdout",
          "text": [
            "              education    y  Count  Normalized\n",
            "9            illiterate  yes      4    0.222222\n",
            "15              unknown  yes    251    0.145003\n",
            "13    university.degree  yes   1670    0.137245\n",
            "11  professional.course  yes    595    0.113485\n",
            "7           high.school  yes   1031    0.108355\n",
            "1              basic.4y  yes    428    0.102490\n",
            "3              basic.6y  yes    188    0.082024\n",
            "5              basic.9y  yes    473    0.078246\n",
            "\n",
            " Mean Convertion rate: 12.36%\n"
          ]
        }
      ],
      "metadata": {
        "cellView": "form",
        "colab": {
          "base_uri": "https://localhost:8080/"
        },
        "id": "p7_zh3Pc34jo",
        "outputId": "c3aeb78f-ad0f-435f-e0b0-52dbbe176e0d"
      }
    },
    {
      "cell_type": "markdown",
      "source": [
        "It seems that people with professional courses or university degrees have a greater chance of subscribing to the bank terms. "
      ],
      "metadata": {
        "id": "PB8JXDJq4tRP"
      }
    },
    {
      "cell_type": "markdown",
      "source": [
        "---"
      ],
      "metadata": {
        "id": "StFpKxcfJjh9"
      }
    },
    {
      "cell_type": "markdown",
      "source": [
        "### Does any weekday is easier to sell the subscription?"
      ],
      "metadata": {
        "id": "Kf5HuL-YJBhu"
      }
    },
    {
      "cell_type": "code",
      "execution_count": 17,
      "source": [
        "day_count = df.groupby(['day_of_week','y'], as_index=True)['y'].count().reset_index(name ='Count') #generate new dataframe adding a column called 'Count' wich is the result of groupby() method\r\n",
        "day_count['Normalized'] = day_count['Count']/day_count.groupby('day_of_week').Count.transform('sum') #create new column called \"Normalized\" which is the 'Count' column value normalized for 'job' and 'y' values\r\n",
        "day_count\r\n",
        "g = sns.catplot(x='y',y='Normalized',  data=day_count, kind='bar', aspect=.6, palette= colors, col = 'day_of_week')\r\n",
        "\r\n",
        "(g.set_axis_labels(\"Subscribed to the Term?\", \"Rate\")\r\n",
        " .set_titles(\"{col_name}\")\r\n",
        " .set(ylim=(0,1)))\r\n",
        "\r\n",
        "plt.tight_layout()\r\n",
        "plt.savefig('day_of_week.jpg')#check content folder on colab for JPG file\r\n",
        "plt.show()"
      ],
      "outputs": [
        {
          "output_type": "display_data",
          "data": {
            "text/plain": [
              "<Figure size 1080x360 with 5 Axes>"
            ],
            "image/png": "[encoded data removed]"
          },
          "metadata": {
            "needs_background": "light"
          }
        }
      ],
      "metadata": {
        "cellView": "form",
        "colab": {
          "base_uri": "https://localhost:8080/",
          "height": 0
        },
        "id": "Rnj7KFhZ52UF",
        "outputId": "5e4fcb03-6250-4fc7-d653-73abb90c363c"
      }
    },
    {
      "cell_type": "code",
      "execution_count": 18,
      "source": [
        "#@title\r\n",
        "pivot_day_count = day_count[day_count.y == 'yes'].sort_values(by = 'Normalized', ascending = False) #Displing only 'yes' results in descending order\r\n",
        "\r\n",
        "print(pivot_day_count)\r\n",
        "print(\"\\n Mean Convertion rate: %.2f%%\" % (pivot_day_count['Normalized'].mean()*100))"
      ],
      "outputs": [
        {
          "output_type": "stream",
          "name": "stdout",
          "text": [
            "  day_of_week    y  Count  Normalized\n",
            "5         thu  yes   1045    0.121188\n",
            "7         tue  yes    953    0.117800\n",
            "9         wed  yes    949    0.116671\n",
            "1         fri  yes    846    0.108087\n",
            "3         mon  yes    847    0.099483\n",
            "\n",
            " Mean Convertion rate: 11.26%\n"
          ]
        }
      ],
      "metadata": {
        "cellView": "form",
        "colab": {
          "base_uri": "https://localhost:8080/"
        },
        "id": "zwe_-X1V8Pk3",
        "outputId": "6c7bff04-1865-4e2e-a3ae-40ae31a26123"
      }
    },
    {
      "cell_type": "markdown",
      "source": [
        "It appears that no weekday is more succesful than other, so team scheduling should be equally divided trough the week. But it seems that mondays are well below average in convertion performance. \n",
        "\n",
        "> Due to the low significance of this variable, we should drop it from the dataset that we will build our model."
      ],
      "metadata": {
        "id": "c0pzmyAj85ee"
      }
    },
    {
      "cell_type": "code",
      "execution_count": 19,
      "source": [
        "dataset.drop(columns='day_of_week', inplace = True)"
      ],
      "outputs": [],
      "metadata": {
        "id": "4Nl358FVQqcu"
      }
    },
    {
      "cell_type": "markdown",
      "source": [
        "---"
      ],
      "metadata": {
        "id": "yhN5AsTn9LFy"
      }
    },
    {
      "cell_type": "markdown",
      "source": [
        "### Does any month brings more subscriptions?"
      ],
      "metadata": {
        "id": "INrdYqzQ9NAk"
      }
    },
    {
      "cell_type": "code",
      "execution_count": 20,
      "source": [
        "month_count = df.groupby(['month','y'], as_index=True)['y'].count().reset_index(name ='Count') #generate new dataframe adding a column called 'Count' wich is the result of groupby() method\r\n",
        "month_count['Normalized'] = month_count['Count']/month_count.groupby('month').Count.transform('sum') #create new column called \"Normalized\" which is the 'Count' column value normalized for 'job' and 'y' values\r\n",
        "\r\n",
        "g = sns.catplot(x='y',y='Normalized',  data=month_count,\r\n",
        "                kind='bar', aspect=.6, palette= colors, col = 'month')\r\n",
        "\r\n",
        "(g.set_axis_labels(\"Subscribed to the Term?\", \"Rate\")\r\n",
        "  .set_titles(\"{col_name}\")\r\n",
        "  .set(ylim=(0,1)))\r\n",
        "\r\n",
        "plt.tight_layout()\r\n",
        "plt.savefig('month.jpg')#check content folder on colab for JPG file\r\n",
        "plt.show()"
      ],
      "outputs": [
        {
          "output_type": "display_data",
          "data": {
            "text/plain": [
              "<Figure size 2160x360 with 10 Axes>"
            ],
            "image/png": "[encoded data removed]"
          },
          "metadata": {
            "needs_background": "light"
          }
        }
      ],
      "metadata": {
        "cellView": "form",
        "colab": {
          "base_uri": "https://localhost:8080/",
          "height": 0
        },
        "id": "cK0BFLl29L7r",
        "outputId": "d51f6909-0c66-4dbf-e71e-49729a7b28cb"
      }
    },
    {
      "cell_type": "code",
      "execution_count": 21,
      "source": [
        "#@title\r\n",
        "pivot_month_count = month_count[month_count.y == 'yes'].sort_values(by = 'Normalized', ascending = False) #Displing only 'yes' results in descending order\r\n",
        "\r\n",
        "print(pivot_month_count)\r\n",
        "print(\"\\n Mean Convertion rate: %.2f%%\" % (pivot_job_count['Normalized'].mean()*100))"
      ],
      "outputs": [
        {
          "output_type": "stream",
          "name": "stdout",
          "text": [
            "   month    y  Count  Normalized\n",
            "11   mar  yes    276    0.505495\n",
            "5    dec  yes     89    0.489011\n",
            "19   sep  yes    256    0.449123\n",
            "17   oct  yes    315    0.438719\n",
            "1    apr  yes    539    0.204787\n",
            "3    aug  yes    655    0.106021\n",
            "9    jun  yes    559    0.105115\n",
            "15   nov  yes    416    0.101439\n",
            "7    jul  yes    649    0.090466\n",
            "13   may  yes    886    0.064347\n",
            "\n",
            " Mean Convertion rate: 13.43%\n"
          ]
        }
      ],
      "metadata": {
        "cellView": "form",
        "colab": {
          "base_uri": "https://localhost:8080/"
        },
        "id": "jhIScVKd9h4S",
        "outputId": "636e85b2-321d-4cd6-f09d-a556f85b9736"
      }
    },
    {
      "cell_type": "markdown",
      "source": [
        "We can see that the months of March, December, September and October have a much higher convertion rates than the other months. This has to be looked further by the planning team. \n",
        "\n",
        "\n",
        "\n",
        "> Of those more succesful months, it seems that 3 of them are last months of each quarter (Q1, Q3 and Q4). Is this due to a intrinsecal reason? i.e end of quarter sprint, team motivated by bonuses, lack of control during the quarter.\n",
        "\n",
        ">Or due to extrinsecal reasons? i.e banking market cycles, more disposable incomes at these months, etc.\n",
        "\n",
        "\n",
        "\n",
        "\n",
        "\n",
        "\n",
        " "
      ],
      "metadata": {
        "id": "nnf9Z3zd9xPl"
      }
    },
    {
      "cell_type": "markdown",
      "source": [
        "---"
      ],
      "metadata": {
        "id": "VT_xnSTTJgtg"
      }
    },
    {
      "cell_type": "markdown",
      "source": [
        "### Do younger customers spend less time on the calls than older ones?"
      ],
      "metadata": {
        "id": "5t9SQKCvwy3o"
      }
    },
    {
      "cell_type": "markdown",
      "source": [
        "Older generations are not as used with instant message apps, and social networks as Millenials and GenZs, those groups tend to not like talking on the phone and rather text. Does this translate to the duration of the sales calls? \n",
        "\n",
        "As we saw before on this dataset, call duration is a big factor into vizualizing the success of a sales call."
      ],
      "metadata": {
        "id": "lWmtmYJ45IrF"
      }
    },
    {
      "cell_type": "code",
      "execution_count": 14,
      "source": [
        "fig, ax = plt.subplots(1,1, figsize = (8,6))\r\n",
        "sns.scatterplot(x = df['age'], y = df['duration'], hue = df['y'], palette = color_dict)\r\n",
        "\r\n",
        "plt.legend(title = 'Signed Term?', loc = 'upper right')\r\n",
        "plt.tight_layout()\r\n",
        "plt.show()"
      ],
      "outputs": [
        {
          "output_type": "display_data",
          "data": {
            "text/plain": [
              "<Figure size 576x432 with 1 Axes>"
            ],
            "image/png": "[encoded data removed]"
          },
          "metadata": {
            "needs_background": "light"
          }
        }
      ],
      "metadata": {
        "cellView": "form",
        "colab": {
          "base_uri": "https://localhost:8080/",
          "height": 0
        },
        "id": "3E2FQPp30iJj",
        "outputId": "416f22b9-49eb-4738-ac13-cc0719794ff5"
      }
    },
    {
      "cell_type": "markdown",
      "source": [
        "Not necesseraly, dataset shows no correlation between **age** and call **duration**. But does it relato to convertion rates?"
      ],
      "metadata": {
        "id": "RfGe2KFY1oib"
      }
    },
    {
      "cell_type": "markdown",
      "source": [
        "---"
      ],
      "metadata": {}
    },
    {
      "cell_type": "markdown",
      "source": [
        "### What is the influence of macroeconomics in the conversion rate?"
      ],
      "metadata": {}
    },
    {
      "cell_type": "code",
      "execution_count": 112,
      "source": [
        "import matplotlib as mpl\r\n",
        "sns.set_style('whitegrid')\r\n",
        "f, ax = plt.subplots(figsize=(7, 5))\r\n",
        "sns.despine(f)\r\n",
        "\r\n",
        "sns.histplot(\r\n",
        "    data=df,\r\n",
        "    x=\"euribor3m\", hue=\"y\",\r\n",
        "    multiple=\"fill\",\r\n",
        "    palette=color_dict,\r\n",
        "    edgecolor=\".3\",\r\n",
        "    linewidth=.5,\r\n",
        "    stat='frequency',\r\n",
        "    binwidth=1,\r\n",
        ")\r\n",
        "\r\n",
        "ax.xaxis.set_major_formatter(mpl.ticker.ScalarFormatter())\r\n",
        "ax.set_xticks(np.arange(0,6,0.5))\r\n",
        "ax.set_yticks(np.arange(0,1,0.05))\r\n",
        "\r\n",
        "plt.title('Interest rate x conversion rate', fontsize = 14)\r\n",
        "plt.show()"
      ],
      "outputs": [
        {
          "output_type": "display_data",
          "data": {
            "text/plain": [
              "<Figure size 504x360 with 1 Axes>"
            ],
            "image/png": "[encoded data removed]"
          },
          "metadata": {}
        }
      ],
      "metadata": {}
    },
    {
      "cell_type": "code",
      "execution_count": 113,
      "source": [
        "sns.set_style('whitegrid')\r\n",
        "f, ax = plt.subplots(figsize=(16, 4))\r\n",
        "sns.despine(f)\r\n",
        "\r\n",
        "sns.histplot(\r\n",
        "    data=df,\r\n",
        "    x='cons.conf.idx', hue=\"y\",\r\n",
        "    multiple=\"fill\",\r\n",
        "    palette=color_dict,\r\n",
        "    edgecolor=\".3\",\r\n",
        "    linewidth=.5,\r\n",
        "    stat='frequency',\r\n",
        "    binwidth = 3\r\n",
        ")\r\n",
        "\r\n",
        "ax.xaxis.set_major_formatter(mpl.ticker.ScalarFormatter())\r\n",
        "ax.set_xticks(np.arange(-55,-15,5))\r\n",
        "ax.set_yticks(np.arange(0,1,0.05))\r\n",
        "ax.set_xlabel('Consumer confidence index')\r\n",
        "plt.title('Consumer confidence index x conversion rate', fontsize = 14)\r\n",
        "plt.show()"
      ],
      "outputs": [
        {
          "output_type": "display_data",
          "data": {
            "text/plain": [
              "<Figure size 1152x288 with 1 Axes>"
            ],
            "image/png": "[encoded data removed]"
          },
          "metadata": {}
        }
      ],
      "metadata": {}
    },
    {
      "cell_type": "markdown",
      "source": [
        "It seems that interest rate is less than 3.5% per year convertion rate is considerably higher. And this should be noted at commercial team planning. \r\n",
        "\r\n",
        "As for consumer confidence, Portugal has a notable pessimism for it's economy ever since the eurozone crisis. But when consumer condidence is greater than -35, we have a uptick in sales. Perhaps the uptick in subscriptions when consumer confidence is an outlier, or has relation with decreasing of interest rate. \r\n",
        "\r\n",
        "---"
      ],
      "metadata": {}
    },
    {
      "cell_type": "markdown",
      "source": [
        "## Predicting Success of Telemarketing Call"
      ],
      "metadata": {
        "id": "FrvmuUvnT7Ve"
      }
    },
    {
      "cell_type": "markdown",
      "source": [
        "### Logistic Regression"
      ],
      "metadata": {
        "id": "KfDqWPCQVsky"
      }
    },
    {
      "cell_type": "code",
      "execution_count": 10,
      "source": [
        "from sklearn.linear_model import LogisticRegression\r\n",
        "classifier_lr = LogisticRegression(random_state = 0)\r\n",
        "classifier_lr.fit(X_train, y_train)"
      ],
      "outputs": [
        {
          "output_type": "stream",
          "name": "stderr",
          "text": [
            "C:\\Users\\T-Gamer\\anaconda3\\lib\\site-packages\\sklearn\\linear_model\\_logistic.py:763: ConvergenceWarning: lbfgs failed to converge (status=1):\n",
            "STOP: TOTAL NO. of ITERATIONS REACHED LIMIT.\n",
            "\n",
            "Increase the number of iterations (max_iter) or scale the data as shown in:\n",
            "    https://scikit-learn.org/stable/modules/preprocessing.html\n",
            "Please also refer to the documentation for alternative solver options:\n",
            "    https://scikit-learn.org/stable/modules/linear_model.html#logistic-regression\n",
            "  n_iter_i = _check_optimize_result(\n"
          ]
        },
        {
          "output_type": "execute_result",
          "data": {
            "text/plain": [
              "LogisticRegression(random_state=0)"
            ]
          },
          "metadata": {},
          "execution_count": 10
        }
      ],
      "metadata": {
        "colab": {
          "base_uri": "https://localhost:8080/"
        },
        "id": "ehqEnnELVrTY",
        "outputId": "8d5bfae6-1676-482b-d75f-91d3ea198c4f"
      }
    },
    {
      "cell_type": "code",
      "execution_count": 11,
      "source": [
        "y_pred = classifier_lr.predict(X_test)"
      ],
      "outputs": [],
      "metadata": {
        "id": "CHI4ye2IWyRD"
      }
    },
    {
      "cell_type": "code",
      "execution_count": 15,
      "source": [
        "#Plotting the results\r\n",
        "cm = confusion_matrix(y_test, y_pred)\r\n",
        "sns.heatmap(cm, annot=True, xticklabels=['Negative' , 'Positive'], yticklabels=['Negative' , 'Positive'], cmap = 'rocket', vmax = 1000, vmin =0, fmt = 'g')\r\n",
        "plt.ylabel(\"Label\")\r\n",
        "plt.xlabel(\"Predicted\")\r\n",
        "plt.show()\r\n",
        "print(classification_report(y_test, y_pred))"
      ],
      "outputs": [
        {
          "output_type": "display_data",
          "data": {
            "text/plain": [
              "<Figure size 432x288 with 2 Axes>"
            ],
            "image/png": "[encoded data removed]"
          },
          "metadata": {
            "needs_background": "light"
          }
        },
        {
          "output_type": "stream",
          "name": "stdout",
          "text": [
            "              precision    recall  f1-score   support\n",
            "\n",
            "           0       0.91      0.99      0.95      9137\n",
            "           1       0.69      0.20      0.31      1160\n",
            "\n",
            "    accuracy                           0.90     10297\n",
            "   macro avg       0.80      0.59      0.63     10297\n",
            "weighted avg       0.88      0.90      0.87     10297\n",
            "\n"
          ]
        }
      ],
      "metadata": {
        "colab": {
          "base_uri": "https://localhost:8080/",
          "height": 0
        },
        "id": "P1I02UX1WROi",
        "outputId": "a07bdfa1-538a-4949-9fe8-0b7370d53a6a"
      }
    },
    {
      "cell_type": "markdown",
      "source": [
        "### K-Means Classifier"
      ],
      "metadata": {
        "id": "XpRWis8KXrHw"
      }
    },
    {
      "cell_type": "markdown",
      "source": [
        "We will use the Elbow Method to determine best number of clusters"
      ],
      "metadata": {
        "id": "ZEZEuLMjy5kr"
      }
    },
    {
      "cell_type": "code",
      "execution_count": 26,
      "source": [
        "from sklearn.cluster import KMeans\r\n",
        "from sklearn import metrics\r\n",
        "from scipy.spatial.distance import cdist\r\n",
        "\r\n",
        "# k means determine k\r\n",
        "distortions = []\r\n",
        "K = range(1,10)\r\n",
        "for k in K:\r\n",
        "    kmeanModel = KMeans(n_clusters=k).fit(X)\r\n",
        "    kmeanModel.fit(X)\r\n",
        "    distortions.append(sum(np.min(cdist(X, kmeanModel.cluster_centers_, 'euclidean'), axis=1)) / X.shape[0])\r\n",
        "\r\n",
        "# Plot the elbow\r\n",
        "plt.plot(K, distortions, 'bx-')\r\n",
        "plt.xlabel('K')\r\n",
        "plt.ylabel('Distortion')\r\n",
        "plt.title('The Elbow Method showing the optimal k')\r\n",
        "plt.show()"
      ],
      "outputs": [
        {
          "output_type": "display_data",
          "data": {
            "text/plain": [
              "<Figure size 432x288 with 1 Axes>"
            ],
            "image/png": "[encoded data removed]"
          },
          "metadata": {
            "needs_background": "light"
          }
        }
      ],
      "metadata": {
        "colab": {
          "base_uri": "https://localhost:8080/",
          "height": 0
        },
        "id": "9j15ZyVKy6RP",
        "outputId": "53ee05d2-39e8-442a-da04-ee776715a563"
      }
    },
    {
      "cell_type": "markdown",
      "source": [
        "We can determine that the optimal number of neighbors is 5. "
      ],
      "metadata": {
        "id": "ADfY1xcL0UXJ"
      }
    },
    {
      "cell_type": "code",
      "execution_count": 27,
      "source": [
        "from sklearn.neighbors import KNeighborsClassifier\r\n",
        "classifier_knn = KNeighborsClassifier(n_neighbors = 5, metric = 'minkowski', p = 2)\r\n",
        "classifier_knn.fit(X_train, y_train)"
      ],
      "outputs": [
        {
          "output_type": "execute_result",
          "data": {
            "text/plain": [
              "KNeighborsClassifier()"
            ]
          },
          "metadata": {},
          "execution_count": 27
        }
      ],
      "metadata": {
        "colab": {
          "base_uri": "https://localhost:8080/"
        },
        "id": "zwf9qVM_X2lw",
        "outputId": "0ab4d70a-721b-4dd3-bfdb-b2b8826abb11"
      }
    },
    {
      "cell_type": "code",
      "execution_count": 28,
      "source": [
        "y_pred = classifier_knn.predict(X_test)"
      ],
      "outputs": [],
      "metadata": {
        "id": "lu0Y5Re9ahdn"
      }
    },
    {
      "cell_type": "code",
      "execution_count": 16,
      "source": [
        "#Plotting the results\r\n",
        "\r\n",
        "cm = confusion_matrix(y_test, y_pred)\r\n",
        "sns.heatmap(cm, annot=True, xticklabels=['Negative' , 'Positive'], yticklabels=['Negative' , 'Positive'], cmap = 'rocket', vmax = 1000, vmin =0, fmt = 'g')\r\n",
        "plt.ylabel(\"Label\")\r\n",
        "plt.xlabel(\"Predicted\")\r\n",
        "plt.show()\r\n",
        "\r\n",
        "print(classification_report(y_test, y_pred))"
      ],
      "outputs": [
        {
          "output_type": "display_data",
          "data": {
            "text/plain": [
              "<Figure size 432x288 with 2 Axes>"
            ],
            "image/png": "[encoded data removed]"
          },
          "metadata": {
            "needs_background": "light"
          }
        },
        {
          "output_type": "stream",
          "name": "stdout",
          "text": [
            "              precision    recall  f1-score   support\n",
            "\n",
            "           0       0.91      0.99      0.95      9137\n",
            "           1       0.69      0.20      0.31      1160\n",
            "\n",
            "    accuracy                           0.90     10297\n",
            "   macro avg       0.80      0.59      0.63     10297\n",
            "weighted avg       0.88      0.90      0.87     10297\n",
            "\n"
          ]
        }
      ],
      "metadata": {
        "colab": {
          "base_uri": "https://localhost:8080/",
          "height": 0
        },
        "id": "58NyTJGOYEHd",
        "outputId": "d889b09e-eb07-4f75-92de-4416e5124d31"
      }
    },
    {
      "cell_type": "markdown",
      "source": [
        "### SVC"
      ],
      "metadata": {
        "id": "E0KIr6d_YNUJ"
      }
    },
    {
      "cell_type": "code",
      "execution_count": 30,
      "source": [
        "# Training the Kernel SVM model on the Training set\r\n",
        "from sklearn.svm import SVC\r\n",
        "classifier_svm = SVC(kernel = 'poly', random_state = 0, degree=1)\r\n",
        "classifier_svm.fit(X_train, y_train)"
      ],
      "outputs": [
        {
          "output_type": "execute_result",
          "data": {
            "text/plain": [
              "SVC(degree=1, kernel='poly', random_state=0)"
            ]
          },
          "metadata": {},
          "execution_count": 30
        }
      ],
      "metadata": {
        "colab": {
          "base_uri": "https://localhost:8080/"
        },
        "id": "6ROPMb-nYZr0",
        "outputId": "533a4da3-6263-4cc4-f2da-5e6e25770ec8"
      }
    },
    {
      "cell_type": "code",
      "execution_count": 31,
      "source": [
        "y_pred = classifier_svm.predict(X_test)"
      ],
      "outputs": [],
      "metadata": {
        "id": "IOlWTeS1aQly"
      }
    },
    {
      "cell_type": "code",
      "execution_count": 17,
      "source": [
        "#Plotting the results\r\n",
        "cm = confusion_matrix(y_test, y_pred)\r\n",
        "sns.heatmap(cm, annot=True, xticklabels=['Negative' , 'Positive'], yticklabels=['Negative' , 'Positive'], cmap = 'rocket', vmax = 1000, vmin =0, fmt = 'g')\r\n",
        "plt.ylabel(\"Label\")\r\n",
        "plt.xlabel(\"Predicted\")\r\n",
        "plt.show()\r\n",
        "print(classification_report(y_test, y_pred))"
      ],
      "outputs": [
        {
          "output_type": "display_data",
          "data": {
            "text/plain": [
              "<Figure size 432x288 with 2 Axes>"
            ],
            "image/png": "[encoded data removed]"
          },
          "metadata": {
            "needs_background": "light"
          }
        },
        {
          "output_type": "stream",
          "name": "stdout",
          "text": [
            "              precision    recall  f1-score   support\n",
            "\n",
            "           0       0.91      0.99      0.95      9137\n",
            "           1       0.69      0.20      0.31      1160\n",
            "\n",
            "    accuracy                           0.90     10297\n",
            "   macro avg       0.80      0.59      0.63     10297\n",
            "weighted avg       0.88      0.90      0.87     10297\n",
            "\n"
          ]
        }
      ],
      "metadata": {
        "colab": {
          "base_uri": "https://localhost:8080/",
          "height": 0
        },
        "id": "NqtNHhXBYdPz",
        "outputId": "f6dbf54a-3959-4e08-83e9-ab3ceb6edb91"
      }
    },
    {
      "cell_type": "markdown",
      "source": [
        "### Naïve Bayes"
      ],
      "metadata": {
        "id": "lBx5RVcsYnR0"
      }
    },
    {
      "cell_type": "code",
      "execution_count": 33,
      "source": [
        "# Training the Naive Bayes model on the Training set\r\n",
        "from sklearn.naive_bayes import GaussianNB\r\n",
        "classifier_nb = GaussianNB()\r\n",
        "classifier_nb.fit(X_train, y_train)"
      ],
      "outputs": [
        {
          "output_type": "execute_result",
          "data": {
            "text/plain": [
              "GaussianNB()"
            ]
          },
          "metadata": {},
          "execution_count": 33
        }
      ],
      "metadata": {
        "colab": {
          "base_uri": "https://localhost:8080/"
        },
        "id": "J-AX7nFOYovB",
        "outputId": "cdf689ce-3cbb-4cbf-fd3b-3b8090aa2c71"
      }
    },
    {
      "cell_type": "code",
      "execution_count": 34,
      "source": [
        "y_pred = classifier_nb.predict(X_test)"
      ],
      "outputs": [],
      "metadata": {
        "id": "gXwNt7pmZjwh"
      }
    },
    {
      "cell_type": "code",
      "execution_count": 18,
      "source": [
        "#Plotting the results\r\n",
        "\r\n",
        "cm = confusion_matrix(y_test, y_pred)\r\n",
        "sns.heatmap(cm, annot=True, xticklabels=['Negative' , 'Positive'], yticklabels=['Negative' , 'Positive'], cmap = 'rocket', vmax = 1000, vmin =0, fmt = 'g')\r\n",
        "plt.ylabel(\"Label\")\r\n",
        "plt.xlabel(\"Predicted\")\r\n",
        "plt.show()\r\n",
        "print(classification_report(y_test, y_pred))"
      ],
      "outputs": [
        {
          "output_type": "display_data",
          "data": {
            "text/plain": [
              "<Figure size 432x288 with 2 Axes>"
            ],
            "image/png": "[encoded data removed]"
          },
          "metadata": {
            "needs_background": "light"
          }
        },
        {
          "output_type": "stream",
          "name": "stdout",
          "text": [
            "              precision    recall  f1-score   support\n",
            "\n",
            "           0       0.91      0.99      0.95      9137\n",
            "           1       0.69      0.20      0.31      1160\n",
            "\n",
            "    accuracy                           0.90     10297\n",
            "   macro avg       0.80      0.59      0.63     10297\n",
            "weighted avg       0.88      0.90      0.87     10297\n",
            "\n"
          ]
        }
      ],
      "metadata": {
        "colab": {
          "base_uri": "https://localhost:8080/",
          "height": 0
        },
        "id": "YU5Bi-f-YsUb",
        "outputId": "53a82cb6-5c84-47bf-d0c0-308ce39bc0ff"
      }
    },
    {
      "cell_type": "markdown",
      "source": [
        "### Decision Tree"
      ],
      "metadata": {
        "id": "LSDydFUfY-Tu"
      }
    },
    {
      "cell_type": "code",
      "execution_count": 19,
      "source": [
        "# Training the Decision Tree Classification model on the Training set\r\n",
        "from sklearn.tree import DecisionTreeClassifier\r\n",
        "classifier_dt = DecisionTreeClassifier()\r\n",
        "classifier_dt.fit(X_train, y_train)"
      ],
      "outputs": [
        {
          "output_type": "execute_result",
          "data": {
            "text/plain": [
              "DecisionTreeClassifier()"
            ]
          },
          "metadata": {},
          "execution_count": 19
        }
      ],
      "metadata": {
        "colab": {
          "base_uri": "https://localhost:8080/"
        },
        "id": "AJgucSXeY_y-",
        "outputId": "03aa5209-3739-442c-bb68-7552e671fcb1"
      }
    },
    {
      "cell_type": "code",
      "execution_count": 21,
      "source": [
        "#Plotting the results\r\n",
        "y_pred = classifier_dt.predict(X_test)\r\n",
        "cm = confusion_matrix(y_test, y_pred)\r\n",
        "sns.heatmap(cm, annot=True, xticklabels=['Negative' , 'Positive'], yticklabels=['Negative' , 'Positive'], cmap = 'rocket', vmax = 1000, vmin =0, fmt = 'g')\r\n",
        "plt.ylabel(\"Label\")\r\n",
        "plt.xlabel(\"Predicted\")\r\n",
        "plt.show()\r\n",
        "\r\n",
        "print(classification_report(y_test, y_pred))"
      ],
      "outputs": [
        {
          "output_type": "display_data",
          "data": {
            "text/plain": [
              "<Figure size 432x288 with 2 Axes>"
            ],
            "image/png": "[encoded data removed]"
          },
          "metadata": {
            "needs_background": "light"
          }
        },
        {
          "output_type": "stream",
          "name": "stdout",
          "text": [
            "              precision    recall  f1-score   support\n",
            "\n",
            "           0       0.91      0.90      0.91      9137\n",
            "           1       0.30      0.33      0.31      1160\n",
            "\n",
            "    accuracy                           0.84     10297\n",
            "   macro avg       0.61      0.62      0.61     10297\n",
            "weighted avg       0.84      0.84      0.84     10297\n",
            "\n"
          ]
        }
      ],
      "metadata": {
        "colab": {
          "base_uri": "https://localhost:8080/",
          "height": 0
        },
        "id": "Cp5QD9aZZCKG",
        "outputId": "5b31129f-f31c-474e-f4dc-0399a4db00e0"
      }
    },
    {
      "cell_type": "markdown",
      "source": [
        "### Random Forest Classifier"
      ],
      "metadata": {
        "id": "Keru56vcVbZy"
      }
    },
    {
      "cell_type": "code",
      "execution_count": 22,
      "source": [
        "from sklearn.ensemble import RandomForestClassifier\r\n",
        "\r\n",
        "classifier_rt = RandomForestClassifier()\r\n",
        "\r\n",
        "classifier_rt.fit(X_train, y_train)"
      ],
      "outputs": [
        {
          "output_type": "execute_result",
          "data": {
            "text/plain": [
              "RandomForestClassifier()"
            ]
          },
          "metadata": {},
          "execution_count": 22
        }
      ],
      "metadata": {
        "colab": {
          "base_uri": "https://localhost:8080/"
        },
        "id": "5CBA7YYLUG7G",
        "outputId": "489ab467-979c-4191-95c6-e24e95d70d6b"
      }
    },
    {
      "cell_type": "code",
      "execution_count": 23,
      "source": [
        "y_pred = classifier_rt.predict(X_test)"
      ],
      "outputs": [],
      "metadata": {
        "id": "7EWVvOpNPMOI"
      }
    },
    {
      "cell_type": "code",
      "execution_count": 44,
      "source": [
        "#Plotting the results\r\n",
        "\r\n",
        "cm = confusion_matrix(y_test, y_pred)\r\n",
        "sns.heatmap(cm, annot=True, xticklabels=['Negative' , 'Positive'], yticklabels=['Negative' , 'Positive'], cmap = 'rocket', vmax = 1000, vmin =0, fmt = 'g')\r\n",
        "plt.ylabel(\"Label\")\r\n",
        "plt.xlabel(\"Predicted\")\r\n",
        "plt.show()\r\n",
        "\r\n",
        "print(classification_report(y_pred,y_test))"
      ],
      "outputs": [
        {
          "output_type": "display_data",
          "data": {
            "text/plain": [
              "<Figure size 432x288 with 2 Axes>"
            ],
            "image/png": "[encoded data removed]"
          },
          "metadata": {
            "needs_background": "light"
          }
        },
        {
          "output_type": "stream",
          "name": "stdout",
          "text": [
            "0.8935612314266291\n",
            "              precision    recall  f1-score   support\n",
            "\n",
            "           0       0.97      0.92      0.94      9687\n",
            "           1       0.29      0.55      0.38       610\n",
            "\n",
            "    accuracy                           0.89     10297\n",
            "   macro avg       0.63      0.73      0.66     10297\n",
            "weighted avg       0.93      0.89      0.91     10297\n",
            "\n"
          ]
        }
      ],
      "metadata": {
        "colab": {
          "base_uri": "https://localhost:8080/",
          "height": 0
        },
        "id": "W13HI7cwPa3N",
        "outputId": "8d664f6a-33fb-4572-e660-edd7223c380c"
      }
    },
    {
      "cell_type": "markdown",
      "source": [
        "---"
      ],
      "metadata": {
        "id": "eO77ykUqETQh"
      }
    },
    {
      "cell_type": "markdown",
      "source": [
        "### Note that we have a problem with the amount of False Negatives, wich are actually the greater marjority of the Positive values pointed by the model. This is due to the imbalance of the dataset, since 'No' values are 9 times more prevalent than 'yes'. "
      ],
      "metadata": {}
    },
    {
      "cell_type": "markdown",
      "source": [
        "# Fixing bias introduced by an imbalanced dataset"
      ],
      "metadata": {
        "id": "qKzsy6kvNnHl"
      }
    },
    {
      "cell_type": "markdown",
      "source": [
        "## Addresing imbalance with SMOTE-NC"
      ],
      "metadata": {
        "id": "yf3QY_mXNwr2"
      }
    },
    {
      "cell_type": "code",
      "execution_count": null,
      "source": [
        "#! pip install -U imbalanced-learn"
      ],
      "outputs": [],
      "metadata": {
        "colab": {
          "base_uri": "https://localhost:8080/"
        },
        "id": "4f7qSl4KF1jI",
        "outputId": "25567ad8-fcdb-437b-d404-c8d66adaf88f"
      }
    },
    {
      "cell_type": "markdown",
      "source": [
        "We will use the imbalanced-learn library to address the dataset imbalance. "
      ],
      "metadata": {}
    },
    {
      "cell_type": "code",
      "execution_count": 2,
      "source": [
        "from sklearn.preprocessing import LabelEncoder\r\n",
        "\r\n",
        "df_smote = df.copy() #Starting with a copy of the original dataset\r\n",
        "df_smote.drop(columns=['day_of_week', 'duration'], inplace = True) #dropping columns that we already determined to be excluded from the study\r\n",
        "\r\n",
        "le = LabelEncoder()\r\n",
        "df_smote['y'] = le.fit_transform(df_smote['y'])\r\n",
        "col_y = df_smote.pop('y')\r\n",
        "df_smote['y'] = col_y\r\n",
        "\r\n",
        "X_smote = df_smote.iloc[:, :-1].values\r\n",
        "y_smote = df_smote.iloc[:, -1].values\r\n"
      ],
      "outputs": [],
      "metadata": {
        "id": "Mfk1iTIXN6Nd"
      }
    },
    {
      "cell_type": "code",
      "execution_count": 4,
      "source": [
        "df_smote.info()"
      ],
      "outputs": [
        {
          "output_type": "stream",
          "name": "stdout",
          "text": [
            "<class 'pandas.core.frame.DataFrame'>\n",
            "RangeIndex: 41188 entries, 0 to 41187\n",
            "Data columns (total 19 columns):\n",
            " #   Column          Non-Null Count  Dtype  \n",
            "---  ------          --------------  -----  \n",
            " 0   age             41188 non-null  int64  \n",
            " 1   job             41188 non-null  object \n",
            " 2   marital         41188 non-null  object \n",
            " 3   education       41188 non-null  object \n",
            " 4   default         41188 non-null  object \n",
            " 5   housing         41188 non-null  object \n",
            " 6   loan            41188 non-null  object \n",
            " 7   contact         41188 non-null  object \n",
            " 8   month           41188 non-null  object \n",
            " 9   campaign        41188 non-null  int64  \n",
            " 10  pdays           41188 non-null  int64  \n",
            " 11  previous        41188 non-null  int64  \n",
            " 12  poutcome        41188 non-null  object \n",
            " 13  emp.var.rate    41188 non-null  float64\n",
            " 14  cons.price.idx  41188 non-null  float64\n",
            " 15  cons.conf.idx   41188 non-null  float64\n",
            " 16  euribor3m       41188 non-null  float64\n",
            " 17  nr.employed     41188 non-null  float64\n",
            " 18  y               41188 non-null  int32  \n",
            "dtypes: float64(5), int32(1), int64(4), object(9)\n",
            "memory usage: 5.8+ MB\n"
          ]
        }
      ],
      "metadata": {
        "colab": {
          "base_uri": "https://localhost:8080/"
        },
        "id": "vSJdaKK-gOLZ",
        "outputId": "1df8acaa-3882-4490-c97d-0fd94aa05563"
      }
    },
    {
      "cell_type": "code",
      "execution_count": 3,
      "source": [
        "from sklearn.preprocessing import StandardScaler\r\n",
        "from sklearn.compose import ColumnTransformer\r\n",
        "\r\n",
        "cont_variables = [0,9,10,11,13,14,15,16,17]\r\n",
        "for i in cont_variables:\r\n",
        "  ct = ColumnTransformer([('ct', StandardScaler(), [i])], remainder='passthrough')\r\n",
        "  ct.fit_transform(X_smote)\r\n",
        "\r\n",
        "from sklearn.model_selection import train_test_split\r\n",
        "X_imb, X_t, y_imb, y_t = train_test_split(X_smote, y_smote, test_size = 0.25, stratify = y_smote)"
      ],
      "outputs": [],
      "metadata": {
        "id": "8cPsY8fbLSmX"
      }
    },
    {
      "cell_type": "code",
      "execution_count": 10,
      "source": [
        "X_imb = pd.DataFrame(X_imb, columns=['age', 'job', 'marital', 'education', 'default', 'housing', 'loan',\r\n",
        "       'contact', 'month', 'campaign', 'pdays', 'previous', 'poutcome',\r\n",
        "       'emp.var.rate', 'cons.price.idx', 'cons.conf.idx', 'euribor3m',\r\n",
        "       'nr.employed']) #we need to convert X_imb back to dataframe to work with the SMOTE algorithm\r\n",
        "\r\n",
        "X_imb.head()"
      ],
      "outputs": [
        {
          "output_type": "execute_result",
          "data": {
            "text/plain": [
              "  age           job   marital          education  default housing loan  \\\n",
              "0  50  entrepreneur   married  university.degree       no      no   no   \n",
              "1  50   blue-collar  divorced        high.school       no      no   no   \n",
              "2  36   blue-collar    single           basic.6y  unknown      no   no   \n",
              "3  33        admin.   married  university.degree       no     yes   no   \n",
              "4  43    management   married  university.degree       no      no  yes   \n",
              "\n",
              "     contact month campaign pdays previous     poutcome emp.var.rate  \\\n",
              "0   cellular   nov        1   999        1      failure         -0.1   \n",
              "1  telephone   may        6   999        0  nonexistent          1.1   \n",
              "2   cellular   jul        2   999        0  nonexistent          1.4   \n",
              "3   cellular   jun        1   999        0  nonexistent         -2.9   \n",
              "4   cellular   nov        2   999        1      failure         -0.1   \n",
              "\n",
              "  cons.price.idx cons.conf.idx euribor3m nr.employed  \n",
              "0           93.2         -42.0     4.191      5195.8  \n",
              "1         93.994         -36.4     4.858      5191.0  \n",
              "2         93.918         -42.7      4.96      5228.1  \n",
              "3         92.963         -40.8     1.262      5076.2  \n",
              "4           93.2         -42.0      4.12      5195.8  "
            ],
            "text/html": [
              "<div>\n",
              "<style scoped>\n",
              "    .dataframe tbody tr th:only-of-type {\n",
              "        vertical-align: middle;\n",
              "    }\n",
              "\n",
              "    .dataframe tbody tr th {\n",
              "        vertical-align: top;\n",
              "    }\n",
              "\n",
              "    .dataframe thead th {\n",
              "        text-align: right;\n",
              "    }\n",
              "</style>\n",
              "<table border=\"1\" class=\"dataframe\">\n",
              "  <thead>\n",
              "    <tr style=\"text-align: right;\">\n",
              "      <th></th>\n",
              "      <th>age</th>\n",
              "      <th>job</th>\n",
              "      <th>marital</th>\n",
              "      <th>education</th>\n",
              "      <th>default</th>\n",
              "      <th>housing</th>\n",
              "      <th>loan</th>\n",
              "      <th>contact</th>\n",
              "      <th>month</th>\n",
              "      <th>campaign</th>\n",
              "      <th>pdays</th>\n",
              "      <th>previous</th>\n",
              "      <th>poutcome</th>\n",
              "      <th>emp.var.rate</th>\n",
              "      <th>cons.price.idx</th>\n",
              "      <th>cons.conf.idx</th>\n",
              "      <th>euribor3m</th>\n",
              "      <th>nr.employed</th>\n",
              "    </tr>\n",
              "  </thead>\n",
              "  <tbody>\n",
              "    <tr>\n",
              "      <th>0</th>\n",
              "      <td>50</td>\n",
              "      <td>entrepreneur</td>\n",
              "      <td>married</td>\n",
              "      <td>university.degree</td>\n",
              "      <td>no</td>\n",
              "      <td>no</td>\n",
              "      <td>no</td>\n",
              "      <td>cellular</td>\n",
              "      <td>nov</td>\n",
              "      <td>1</td>\n",
              "      <td>999</td>\n",
              "      <td>1</td>\n",
              "      <td>failure</td>\n",
              "      <td>-0.1</td>\n",
              "      <td>93.2</td>\n",
              "      <td>-42.0</td>\n",
              "      <td>4.191</td>\n",
              "      <td>5195.8</td>\n",
              "    </tr>\n",
              "    <tr>\n",
              "      <th>1</th>\n",
              "      <td>50</td>\n",
              "      <td>blue-collar</td>\n",
              "      <td>divorced</td>\n",
              "      <td>high.school</td>\n",
              "      <td>no</td>\n",
              "      <td>no</td>\n",
              "      <td>no</td>\n",
              "      <td>telephone</td>\n",
              "      <td>may</td>\n",
              "      <td>6</td>\n",
              "      <td>999</td>\n",
              "      <td>0</td>\n",
              "      <td>nonexistent</td>\n",
              "      <td>1.1</td>\n",
              "      <td>93.994</td>\n",
              "      <td>-36.4</td>\n",
              "      <td>4.858</td>\n",
              "      <td>5191.0</td>\n",
              "    </tr>\n",
              "    <tr>\n",
              "      <th>2</th>\n",
              "      <td>36</td>\n",
              "      <td>blue-collar</td>\n",
              "      <td>single</td>\n",
              "      <td>basic.6y</td>\n",
              "      <td>unknown</td>\n",
              "      <td>no</td>\n",
              "      <td>no</td>\n",
              "      <td>cellular</td>\n",
              "      <td>jul</td>\n",
              "      <td>2</td>\n",
              "      <td>999</td>\n",
              "      <td>0</td>\n",
              "      <td>nonexistent</td>\n",
              "      <td>1.4</td>\n",
              "      <td>93.918</td>\n",
              "      <td>-42.7</td>\n",
              "      <td>4.96</td>\n",
              "      <td>5228.1</td>\n",
              "    </tr>\n",
              "    <tr>\n",
              "      <th>3</th>\n",
              "      <td>33</td>\n",
              "      <td>admin.</td>\n",
              "      <td>married</td>\n",
              "      <td>university.degree</td>\n",
              "      <td>no</td>\n",
              "      <td>yes</td>\n",
              "      <td>no</td>\n",
              "      <td>cellular</td>\n",
              "      <td>jun</td>\n",
              "      <td>1</td>\n",
              "      <td>999</td>\n",
              "      <td>0</td>\n",
              "      <td>nonexistent</td>\n",
              "      <td>-2.9</td>\n",
              "      <td>92.963</td>\n",
              "      <td>-40.8</td>\n",
              "      <td>1.262</td>\n",
              "      <td>5076.2</td>\n",
              "    </tr>\n",
              "    <tr>\n",
              "      <th>4</th>\n",
              "      <td>43</td>\n",
              "      <td>management</td>\n",
              "      <td>married</td>\n",
              "      <td>university.degree</td>\n",
              "      <td>no</td>\n",
              "      <td>no</td>\n",
              "      <td>yes</td>\n",
              "      <td>cellular</td>\n",
              "      <td>nov</td>\n",
              "      <td>2</td>\n",
              "      <td>999</td>\n",
              "      <td>1</td>\n",
              "      <td>failure</td>\n",
              "      <td>-0.1</td>\n",
              "      <td>93.2</td>\n",
              "      <td>-42.0</td>\n",
              "      <td>4.12</td>\n",
              "      <td>5195.8</td>\n",
              "    </tr>\n",
              "  </tbody>\n",
              "</table>\n",
              "</div>"
            ]
          },
          "metadata": {},
          "execution_count": 10
        }
      ],
      "metadata": {
        "colab": {
          "base_uri": "https://localhost:8080/",
          "height": 204
        },
        "id": "Y43zwlX5emIk",
        "outputId": "5f079cbd-af1d-469b-bd5b-55034c03f877"
      }
    },
    {
      "cell_type": "markdown",
      "source": [
        "SMOTE is an oversampling technique that uses the KNN method to create synthetic data points of the minority class. "
      ],
      "metadata": {}
    },
    {
      "cell_type": "code",
      "execution_count": 11,
      "source": [
        "from imblearn.over_sampling import SMOTENC\r\n",
        "\r\n",
        "smotenc = SMOTENC([0,1,2,3,4,5,6,7,8,12], sampling_strategy=1.0) #We will use a 1:1 sampling strategy\r\n",
        "X_oversample, y_oversample = smotenc.fit_resample(X_imb, y_imb)"
      ],
      "outputs": [],
      "metadata": {
        "id": "kiupLKr5X_Tx"
      }
    },
    {
      "cell_type": "code",
      "execution_count": 12,
      "source": [
        "X_oversample = pd.DataFrame(X_oversample, columns=['age', 'job', 'marital', 'education', 'default', 'housing', 'loan','contact', 'month', 'campaign', 'pdays', 'previous', 'poutcome','emp.var.rate', 'cons.price.idx', 'cons.conf.idx', 'euribor3m', 'nr.employed'])#Converting X_oversample back to dataframe so we can encode categorical columns"
      ],
      "outputs": [],
      "metadata": {
        "id": "9WdAUF-_tF3c"
      }
    },
    {
      "cell_type": "code",
      "execution_count": 13,
      "source": [
        "X_oversample = pd.get_dummies(X_oversample, columns=['job', 'marital', 'education', 'default', 'housing', 'loan', 'contact', 'month', 'poutcome'])"
      ],
      "outputs": [],
      "metadata": {
        "id": "TjGst6_60G1v"
      }
    },
    {
      "cell_type": "code",
      "execution_count": 14,
      "source": [
        "y_imb.mean()"
      ],
      "outputs": [
        {
          "output_type": "execute_result",
          "data": {
            "text/plain": [
              "0.11265417111780131"
            ]
          },
          "metadata": {},
          "execution_count": 14
        }
      ],
      "metadata": {
        "colab": {
          "base_uri": "https://localhost:8080/"
        },
        "id": "W0651NRsgH_N",
        "outputId": "00a98386-bec0-46f1-c1fd-150858a32469"
      }
    },
    {
      "cell_type": "code",
      "execution_count": 15,
      "source": [
        "y_oversample.mean()"
      ],
      "outputs": [
        {
          "output_type": "execute_result",
          "data": {
            "text/plain": [
              "0.5"
            ]
          },
          "metadata": {},
          "execution_count": 15
        }
      ],
      "metadata": {
        "colab": {
          "base_uri": "https://localhost:8080/"
        },
        "id": "nOkhG0tsfSxK",
        "outputId": "821c059c-349c-4c3b-f36d-dee72cd0b3b2"
      }
    },
    {
      "cell_type": "markdown",
      "source": [
        "Note that with the use of the SMOTE-NC method the 'yes' target value has increased from 11% of the dataset to 50%.\n"
      ],
      "metadata": {
        "id": "-GbecnjXhCFG"
      }
    },
    {
      "cell_type": "markdown",
      "source": [
        "## Tunning Hyperparameters with randomized search"
      ],
      "metadata": {
        "id": "S9i-fkXOjcMx"
      }
    },
    {
      "cell_type": "markdown",
      "source": [
        "### Defining parameter grid"
      ],
      "metadata": {
        "id": "nyMAoIxxkJ-9"
      }
    },
    {
      "cell_type": "code",
      "execution_count": 4,
      "source": [
        "#Defining some number of samples to be tested, after the best parameters are defined, we can refine this variable to achive more optimized results\r\n",
        "rt_n_estimators = [10, 100, 500, 1000]\r\n",
        "#This variables changes the way our model will evaluate a quality of each split, there are two methods: gini and entropy. More details on each method in sklearn docs.\r\n",
        "rt_criterion = ['gini', 'entropy']\r\n",
        "#Now we determine the range values for the minimum number of samples required to split a node\r\n",
        "rt_min_samples_split = [2, 5, 7, 9]\r\n",
        "#Range of values that will be the requirement for a node be considered a leaf node. Has the effect of smoothing the model.\r\n",
        "rt_min_samples_leaf = [1, 2, 4, 6]\r\n",
        "#Range for the number of features to evaluate which is the best split. For the details on each method, check sklearn docs. \r\n",
        "rt_max_features = ['auto', 'sqrt', 'log2', None]\r\n",
        "#wheter bootstrap samples are used or not\r\n",
        "rt_bootstrap = [True, False]\r\n",
        "#if bootstrap = True, decide if wheter or not use out-of-bag samples to calculate the generalization score\r\n",
        "rt_oob_score = [True, False]\r\n",
        "#experimenting with this parameter\r\n",
        "rt_max_samples = [None,0.5, 2, 4]\r\n",
        "\r\n",
        "#Creating random grid\r\n",
        "\r\n",
        "random_grid = {\r\n",
        "    'n_estimators': rt_n_estimators,\r\n",
        "    'criterion': rt_criterion,\r\n",
        "    'min_samples_split': rt_min_samples_split,\r\n",
        "    'min_samples_leaf': rt_min_samples_leaf,\r\n",
        "    'max_features': rt_max_features,\r\n",
        "    'bootstrap': rt_bootstrap,\r\n",
        "    'oob_score': rt_oob_score,\r\n",
        "    'max_samples': rt_max_samples\r\n",
        "}\r\n",
        "\r\n",
        "print(random_grid)"
      ],
      "outputs": [
        {
          "output_type": "stream",
          "name": "stdout",
          "text": [
            "{'n_estimators': [10, 100, 500, 1000], 'criterion': ['gini', 'entropy'], 'min_samples_split': [2, 5, 7, 9], 'min_samples_leaf': [1, 2, 4, 6], 'max_features': ['auto', 'sqrt', 'log2', None], 'bootstrap': [True, False], 'oob_score': [True, False], 'max_samples': [None, 0.5, 2, 4]}\n"
          ]
        }
      ],
      "metadata": {
        "colab": {
          "base_uri": "https://localhost:8080/"
        },
        "id": "mG18csimkHrl",
        "outputId": "a6edd0bf-adb0-4684-d633-4be5df0a7d6b"
      }
    },
    {
      "cell_type": "markdown",
      "source": [
        "### Finding the best parameters with Randomized Search"
      ],
      "metadata": {
        "id": "t9nhER8dpyks"
      }
    },
    {
      "cell_type": "markdown",
      "source": [
        "Randomized search tests a sample of the combination of parameters defined in the parameter grid and finds which has the best fit according to the scoring method defined. We will opt for f1 score since precision is heavily influenced by '0' class, and our objective is to avoid False Negatives."
      ],
      "metadata": {}
    },
    {
      "cell_type": "code",
      "execution_count": 69,
      "source": [
        "from sklearn.model_selection import RandomizedSearchCV\r\n",
        "from sklearn.ensemble import RandomForestClassifier\r\n",
        "#Creating classifier\r\n",
        "rt = RandomForestClassifier(n_jobs = 1, class_weight={0:.1, 1:.9})#since 0 is 9x more prevalent than 1 in the dataset, we adjust the class_weight accordingly\r\n",
        "rt_random_search = RandomizedSearchCV(estimator = rt, param_distributions = random_grid, n_iter = 400, cv = 5, verbose=0, n_jobs = 2, error_score=0.0, scoring='f1')#we use f1 score instead of to avoid model overfitting to y=0"
      ],
      "outputs": [],
      "metadata": {
        "id": "YvfmJm8ZpwUj"
      }
    },
    {
      "cell_type": "code",
      "execution_count": 70,
      "source": [
        "#searching for the best parameters\r\n",
        "\r\n",
        "rt_random_search.fit(X_oversample, y_oversample)"
      ],
      "outputs": [
        {
          "output_type": "execute_result",
          "data": {
            "text/plain": [
              "RandomizedSearchCV(cv=5, error_score=0.0,\n",
              "                   estimator=RandomForestClassifier(class_weight={0: 0.1,\n",
              "                                                                  1: 0.9},\n",
              "                                                    n_jobs=1),\n",
              "                   n_iter=400, n_jobs=2,\n",
              "                   param_distributions={'bootstrap': [True, False],\n",
              "                                        'criterion': ['gini', 'entropy'],\n",
              "                                        'max_features': ['auto', 'sqrt', 'log2',\n",
              "                                                         None],\n",
              "                                        'max_samples': [None, 0.5, 2, 4],\n",
              "                                        'min_samples_leaf': [1, 2, 4, 6],\n",
              "                                        'min_samples_split': [2, 5, 7, 9],\n",
              "                                        'n_estimators': [10, 100, 500, 1000],\n",
              "                                        'oob_score': [True, False]},\n",
              "                   scoring='f1')"
            ]
          },
          "metadata": {},
          "execution_count": 70
        }
      ],
      "metadata": {
        "colab": {
          "base_uri": "https://localhost:8080/"
        },
        "id": "r3TYew3lqm6A",
        "outputId": "e526386d-46f3-4f01-9df0-17c35f361617"
      }
    },
    {
      "cell_type": "code",
      "execution_count": null,
      "source": [
        "from joblib import dump\r\n",
        "dump(rt_random_search.best_params_, 'clf.joblib')"
      ],
      "outputs": [],
      "metadata": {
        "colab": {
          "base_uri": "https://localhost:8080/"
        },
        "id": "qF41H-qXAFy8",
        "outputId": "f6cf7806-69be-4d94-c5c8-d179bc4453a7"
      }
    },
    {
      "cell_type": "markdown",
      "source": [
        "The best parameters selected by the RandomSearchCV algorithm are:"
      ],
      "metadata": {
        "id": "fYdRR2_Zw0qq"
      }
    },
    {
      "cell_type": "code",
      "execution_count": 71,
      "source": [
        "print(rt_random_search.best_params_)"
      ],
      "outputs": [
        {
          "output_type": "stream",
          "name": "stdout",
          "text": [
            "{'oob_score': True, 'n_estimators': 100, 'min_samples_split': 2, 'min_samples_leaf': 1, 'max_samples': None, 'max_features': None, 'criterion': 'entropy', 'bootstrap': True}\n"
          ]
        }
      ],
      "metadata": {
        "colab": {
          "base_uri": "https://localhost:8080/"
        },
        "id": "suhimH5Rw6Jg",
        "outputId": "2b1043d5-8cd3-44d8-c953-a860d0fe2bbd"
      }
    },
    {
      "cell_type": "code",
      "execution_count": 5,
      "source": [
        "X_t = pd.DataFrame(X_t, columns=['age', 'job', 'marital', 'education', 'default', 'housing', 'loan','contact', 'month', 'campaign', 'pdays', 'previous', 'poutcome','emp.var.rate', 'cons.price.idx', 'cons.conf.idx', 'euribor3m','nr.employed'])"
      ],
      "outputs": [],
      "metadata": {
        "id": "sQ1-2PpYId7H"
      }
    },
    {
      "cell_type": "code",
      "execution_count": 6,
      "source": [
        "X_t = pd.get_dummies(data=X_t, columns=['job', 'marital', 'education', 'default', 'housing', 'loan', 'contact', 'month', 'poutcome'])"
      ],
      "outputs": [],
      "metadata": {}
    },
    {
      "cell_type": "code",
      "execution_count": 20,
      "source": [
        "#predicting results using test set\r\n",
        "#note: by using random search, our model retains the best parameters which also can be accessed with .best_parameters_ property.\r\n",
        "y_pred = rt_random_search.predict(X_t)"
      ],
      "outputs": [],
      "metadata": {
        "id": "myztERJ_wJqf"
      }
    },
    {
      "cell_type": "code",
      "execution_count": 22,
      "source": [
        "from sklearn.metrics import confusion_matrix, classification_report\r\n",
        "# Making the Confusion Matrix\r\n",
        "cm = confusion_matrix(y_t, y_pred)\r\n",
        "sns.heatmap(cm, annot=True, xticklabels=['Negative' , 'Positive'], yticklabels=['Negative' , 'Positive'], cmap = 'rocket', vmax = 1000, vmin =0, fmt = 'g')\r\n",
        "plt.ylabel(\"Label\")\r\n",
        "plt.xlabel(\"Predicted\")\r\n",
        "plt.show()"
      ],
      "outputs": [
        {
          "output_type": "display_data",
          "data": {
            "text/plain": [
              "<Figure size 432x288 with 2 Axes>"
            ],
            "image/png": "[encoded data removed]"
          },
          "metadata": {
            "needs_background": "light"
          }
        }
      ],
      "metadata": {
        "colab": {
          "base_uri": "https://localhost:8080/",
          "height": 283
        },
        "id": "rFgCGOjTwjnZ",
        "outputId": "cad1c046-3a7d-49cd-8d69-7b05050caead"
      }
    },
    {
      "cell_type": "code",
      "execution_count": 24,
      "source": [
        "print(classification_report(y_t, y_pred))"
      ],
      "outputs": [
        {
          "output_type": "stream",
          "name": "stdout",
          "text": [
            "              precision    recall  f1-score   support\n",
            "\n",
            "           0       0.92      0.93      0.93      9137\n",
            "           1       0.44      0.40      0.42      1160\n",
            "\n",
            "    accuracy                           0.87     10297\n",
            "   macro avg       0.68      0.67      0.67     10297\n",
            "weighted avg       0.87      0.87      0.87     10297\n",
            "\n"
          ]
        }
      ],
      "metadata": {
        "colab": {
          "base_uri": "https://localhost:8080/"
        },
        "id": "S943-n1KitHl",
        "outputId": "e460bae1-fe2e-40d8-95f3-67bd323588df"
      }
    },
    {
      "cell_type": "markdown",
      "source": [
        "We can still try to improve the number of TP adjusting the decision treshold from the model from 0.5 (standard) to a more suitable probability. "
      ],
      "metadata": {}
    },
    {
      "cell_type": "markdown",
      "source": [
        "## Trying to reduce False negatives further with adjusting the decision treshold"
      ],
      "metadata": {}
    },
    {
      "cell_type": "code",
      "execution_count": 53,
      "source": [
        "y_pred_prob = (rt_random_search.predict_proba(X_t)[:,1] >= 0.20).astype(bool) #The model will only classify a customer as a probable 'no sell' if it has 80% change of not subscribing, less than that and is classified as positive. "
      ],
      "outputs": [],
      "metadata": {}
    },
    {
      "cell_type": "code",
      "execution_count": 54,
      "source": [
        "# Plotting the Confusion Matrix\r\n",
        "cm = confusion_matrix(y_t, y_pred_prob)\r\n",
        "sns.heatmap(cm, annot=True, xticklabels=['Negative' , 'Positive'], yticklabels=['Negative' , 'Positive'], cmap = 'rocket', vmax = 1000, vmin =0, fmt = 'g')\r\n",
        "plt.ylabel(\"Label\")\r\n",
        "plt.xlabel(\"Predicted\")\r\n",
        "plt.show()"
      ],
      "outputs": [
        {
          "output_type": "display_data",
          "data": {
            "text/plain": [
              "<Figure size 432x288 with 2 Axes>"
            ],
            "image/png": "[encoded data removed]"
          },
          "metadata": {
            "needs_background": "light"
          }
        }
      ],
      "metadata": {}
    },
    {
      "cell_type": "code",
      "execution_count": 50,
      "source": [
        "print(classification_report(y_t, y_pred_prob))"
      ],
      "outputs": [
        {
          "output_type": "stream",
          "name": "stdout",
          "text": [
            "              precision    recall  f1-score   support\n",
            "\n",
            "           0       0.94      0.79      0.86      9137\n",
            "           1       0.27      0.63      0.38      1160\n",
            "\n",
            "    accuracy                           0.77     10297\n",
            "   macro avg       0.61      0.71      0.62     10297\n",
            "weighted avg       0.87      0.77      0.81     10297\n",
            "\n"
          ]
        }
      ],
      "metadata": {}
    },
    {
      "cell_type": "markdown",
      "source": [
        "Note the trade that was made, we increased the number of false positives, but considerably reduce the amount of false negatives. The company has to decide what is the balance of FP and FN that is acceptable to them. "
      ],
      "metadata": {}
    },
    {
      "cell_type": "markdown",
      "source": [
        "---"
      ],
      "metadata": {
        "id": "C6AmakmYOAGv"
      }
    },
    {
      "cell_type": "markdown",
      "source": [
        "# Conclusion"
      ],
      "metadata": {
        "id": "XtBWp7INF0d2"
      }
    },
    {
      "cell_type": "markdown",
      "source": [
        "### What we can conclude from the dataset?"
      ],
      "metadata": {
        "id": "53jZsml_F5SV"
      }
    },
    {
      "cell_type": "markdown",
      "source": [
        " - The marjority of customers that subscribed to the terms are 65+ years.\r\n",
        " - Students and retired customers have the most chance to subscribe. \r\n",
        "  > Need to take this into account when planning marketing campaigns. \r\n",
        " - Peolpe holding university or professional degrees have more chance to subscribe.\r\n",
        "  > This can shape how the scripts for the sales persons. \r\n",
        " - Single customers have aprox. 30% more chance to subscribe.\r\n",
        "\r\n",
        " Some macro factors that influence conversion rates for the campaign:\r\n",
        " - Periods with low interest rates tend to be more succesful for this product. \r\n",
        " - Conversion rates tend to increase with growth of consumer confidence. \r\n",
        "  > Management can use macroeconomics forecasts from the bank itself to improve planning. \r\n",
        " - March, semptember, october and december are the best months for convertion. \r\n",
        "  > Management could increase incentives for the teams in those months, also could promote sprints and internal propaganda.\r\n",
        "\r\n",
        "  In regards to the prediction model, the recommendation is that it has to be retrained at a later date, with a greater quantity of positive results. \r\n",
        "\r\n",
        "  We tried Randomized search, used smote techniques and adjusted the decision treshold to a very aggresive level, the amount of False Negatives is around 47% of total True Positives amount. Taking more steps to compensate for class imbalance can greatly increase the number of False positives, increasing costs with callcenters, which probably is the opposite effect desired by this study. \r\n",
        "\r\n",
        "  Finally, is up to the management to figure out the ratio of TP/FN that is acceptable to reduce the amount of FN. "
      ],
      "metadata": {}
    }
  ],
  "metadata": {
    "colab": {
      "collapsed_sections": [
        "xkL2CGgqV7SZ",
        "rfjc_gMrt_tg",
        "3HkeaJlDB0D4",
        "pwxLDSjb471p",
        "-eP1NqKK5wVL",
        "m7-L1X33udYz",
        "OeB8hVrmJ4Iv",
        "Kf5HuL-YJBhu",
        "INrdYqzQ9NAk",
        "5t9SQKCvwy3o",
        "FrvmuUvnT7Ve",
        "KfDqWPCQVsky",
        "XpRWis8KXrHw",
        "E0KIr6d_YNUJ",
        "lBx5RVcsYnR0",
        "LSDydFUfY-Tu",
        "Keru56vcVbZy",
        "3Y6ZALfybTMo"
      ],
      "name": "Bank marketing.ipynb",
      "provenance": []
    },
    "interpreter": {
      "hash": "7e279da1b63a46ffd75cf03aef1cd603d07e2c884411c9c94fb0aa82f7f9cf87"
    },
    "kernelspec": {
      "display_name": "Python 3.8.8 64-bit ('base': conda)",
      "name": "python3"
    },
    "language_info": {
      "codemirror_mode": {
        "name": "ipython",
        "version": 3
      },
      "file_extension": ".py",
      "mimetype": "text/x-python",
      "name": "python",
      "nbconvert_exporter": "python",
      "pygments_lexer": "ipython3",
      "version": "3.8.8"
    }
  },
  "nbformat": 4,
  "nbformat_minor": 2
}